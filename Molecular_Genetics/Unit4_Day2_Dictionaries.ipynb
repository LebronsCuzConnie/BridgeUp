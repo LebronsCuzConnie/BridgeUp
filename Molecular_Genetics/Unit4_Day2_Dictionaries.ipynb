{
 "cells": [
  {
   "cell_type": "markdown",
   "metadata": {},
   "source": [
    "# Introducing Dictionaries\n",
    "\n",
    "Dictionaries are a convenient way of storing data in Python.  A dictionary in Python is like a dictionary in the real world.  \n",
    "\n",
    "In the real world, a dictionary consists of **words** and their **definitions**. In Python, a dictionary consists of **keys** and their **values**.\n",
    "\n",
    "Use this Jupyter Notebook to explore this new data type."
   ]
  },
  {
   "cell_type": "markdown",
   "metadata": {},
   "source": [
    "### Use this cell for the live code session:"
   ]
  },
  {
   "cell_type": "code",
   "execution_count": 1,
   "metadata": {},
   "outputs": [
    {
     "name": "stdout",
     "output_type": "stream",
     "text": [
      "dilution\n",
      "The detergent was used for breaks cell wall\n"
     ]
    }
   ],
   "source": [
    "strawDict = {\"rubbing alcohol\":\"DNA separation\", \"strawberries\":\"DNA source\",\n",
    "            \"water\":\"dilution\",\"detergent\":\"breaks cell wall\"}\n",
    "print(strawDict[\"water\"])\n",
    "\n",
    "ingredient = \"detergent\"\n",
    "sentence = \"The \" + ingredient + \" was used for \" + strawDict[ingredient] \n",
    "print(sentence)"
   ]
  },
  {
   "cell_type": "markdown",
   "metadata": {},
   "source": [
    "### Run the following cells to practice using dictionaries:"
   ]
  },
  {
   "cell_type": "code",
   "execution_count": 2,
   "metadata": {},
   "outputs": [],
   "source": [
    "# We will create a new dictionary\n",
    "switchDict = {0:\"off\", 1:\"on\"} # Notice that you can use integers as keys and strings as values if you want"
   ]
  },
  {
   "cell_type": "code",
   "execution_count": 3,
   "metadata": {},
   "outputs": [
    {
     "name": "stdout",
     "output_type": "stream",
     "text": [
      "off\n"
     ]
    }
   ],
   "source": [
    "# print out the value for the 0 key\n",
    "print(switchDict[0])"
   ]
  },
  {
   "cell_type": "code",
   "execution_count": 4,
   "metadata": {},
   "outputs": [
    {
     "name": "stdout",
     "output_type": "stream",
     "text": [
      "{'Dozen': 12, \"Baker's Dozen\": 13, 'Score': 20, 'One Gross': 144}\n"
     ]
    }
   ],
   "source": [
    "# Here's another dictionary\n",
    "countDict = {\"Dozen\":12, \"Baker's Dozen\": 13, \"Score\":20, \"One Gross\":144}\n",
    "print(countDict"
   ]
  },
  {
   "cell_type": "markdown",
   "metadata": {},
   "source": [
    "**Notice:** The keys and values in a Python dictionary don't stay in the order you added them. This is different than a list!"
   ]
  },
  {
   "cell_type": "code",
   "execution_count": 5,
   "metadata": {},
   "outputs": [
    {
     "name": "stdout",
     "output_type": "stream",
     "text": [
      "12\n"
     ]
    }
   ],
   "source": [
    "# Let's print out the value for the \"Dozen\" key:\n",
    "print(countDict[\"Dozen\"])"
   ]
  },
  {
   "cell_type": "markdown",
   "metadata": {},
   "source": [
    "You can add a new key/value pair to a dictionary:"
   ]
  },
  {
   "cell_type": "code",
   "execution_count": 6,
   "metadata": {},
   "outputs": [
    {
     "name": "stdout",
     "output_type": "stream",
     "text": [
      "{'Dozen': 12, \"Baker's Dozen\": 13, 'Score': 20, 'One Gross': 144, 'Half Dozen': 6}\n"
     ]
    }
   ],
   "source": [
    "countDict[\"Half Dozen\"] = 6\n",
    "print(countDict)"
   ]
  },
  {
   "cell_type": "markdown",
   "metadata": {},
   "source": [
    "You can use conditionals with dictionary keys:"
   ]
  },
  {
   "cell_type": "code",
   "execution_count": 7,
   "metadata": {},
   "outputs": [
    {
     "name": "stdout",
     "output_type": "stream",
     "text": [
      "A score is greater than 19\n"
     ]
    }
   ],
   "source": [
    "if countDict[\"Score\"] > 19:\n",
    "    print(\"A score is greater than 19\")"
   ]
  },
  {
   "cell_type": "markdown",
   "metadata": {},
   "source": [
    "You can delete a key/value pair from a dictionary:"
   ]
  },
  {
   "cell_type": "code",
   "execution_count": 8,
   "metadata": {},
   "outputs": [
    {
     "name": "stdout",
     "output_type": "stream",
     "text": [
      "{\"Baker's Dozen\": 13, 'Score': 20, 'One Gross': 144, 'Half Dozen': 6}\n"
     ]
    }
   ],
   "source": [
    "del countDict[\"Dozen\"]\n",
    "print(countDict)"
   ]
  },
  {
   "cell_type": "markdown",
   "metadata": {},
   "source": [
    "### Your turn!\n",
    "Create a dictionary called favoriteDict with the following keys: \"food\", \"number\", \"season\", \"age\", \"color\". Fill in the values according to your favorites."
   ]
  },
  {
   "cell_type": "code",
   "execution_count": 9,
   "metadata": {},
   "outputs": [],
   "source": [
    "favoriteDict = {\"food\": \"watermelon\",\"number\":\"4\", \"season\":\"summer\",\"age\":\"14\", \"color\":\"purple\"}"
   ]
  },
  {
   "cell_type": "markdown",
   "metadata": {},
   "source": [
    "Now print out the value paired with the \"food\" key:"
   ]
  },
  {
   "cell_type": "code",
   "execution_count": 10,
   "metadata": {},
   "outputs": [
    {
     "name": "stdout",
     "output_type": "stream",
     "text": [
      "watermelon\n"
     ]
    }
   ],
   "source": [
    "print(favoriteDict[\"food\"])"
   ]
  },
  {
   "cell_type": "markdown",
   "metadata": {},
   "source": [
    "Write a conditional that prints out \"my favorite number is greater than 5\" or \"my favorite number is less than 5\" depending on your favorite number:"
   ]
  },
  {
   "cell_type": "code",
   "execution_count": 11,
   "metadata": {},
   "outputs": [
    {
     "ename": "TypeError",
     "evalue": "'>' not supported between instances of 'str' and 'int'",
     "output_type": "error",
     "traceback": [
      "\u001b[0;31m---------------------------------------------------------------------------\u001b[0m",
      "\u001b[0;31mTypeError\u001b[0m                                 Traceback (most recent call last)",
      "\u001b[0;32m<ipython-input-11-d0fcddd3030b>\u001b[0m in \u001b[0;36m<module>\u001b[0;34m()\u001b[0m\n\u001b[0;32m----> 1\u001b[0;31m \u001b[0;32mif\u001b[0m \u001b[0mfavoriteDict\u001b[0m\u001b[0;34m[\u001b[0m\u001b[0;34m\"number\"\u001b[0m\u001b[0;34m]\u001b[0m \u001b[0;34m>\u001b[0m \u001b[0;36m5\u001b[0m\u001b[0;34m:\u001b[0m\u001b[0;34m\u001b[0m\u001b[0m\n\u001b[0m\u001b[1;32m      2\u001b[0m     \u001b[0mprint\u001b[0m\u001b[0;34m(\u001b[0m\u001b[0;34m\"my favorite number is greater than 5\"\u001b[0m\u001b[0;34m)\u001b[0m\u001b[0;34m\u001b[0m\u001b[0m\n\u001b[1;32m      3\u001b[0m \u001b[0;32melse\u001b[0m\u001b[0;34m:\u001b[0m\u001b[0;34m\u001b[0m\u001b[0m\n\u001b[1;32m      4\u001b[0m     \u001b[0mprint\u001b[0m\u001b[0;34m(\u001b[0m\u001b[0;34m\"my favorite number is less than 5\"\u001b[0m\u001b[0;34m)\u001b[0m\u001b[0;34m\u001b[0m\u001b[0m\n",
      "\u001b[0;31mTypeError\u001b[0m: '>' not supported between instances of 'str' and 'int'"
     ]
    }
   ],
   "source": [
    "if favoriteDict[\"number\"] > 5:\n",
    "    print(\"my favorite number is greater than 5\")\n",
    "else:\n",
    "    print(\"my favorite number is less than 5\")"
   ]
  },
  {
   "cell_type": "markdown",
   "metadata": {},
   "source": [
    "Add a new value/key pair for your favorite animal:"
   ]
  },
  {
   "cell_type": "code",
   "execution_count": 12,
   "metadata": {},
   "outputs": [
    {
     "name": "stdout",
     "output_type": "stream",
     "text": [
      "{'food': 'watermelon', 'number': '4', 'season': 'summer', 'age': '14', 'color': 'purple', 'animal': 'Jaguar'}\n"
     ]
    }
   ],
   "source": [
    "favoriteDict[\"animal\"] = \"Jaguar\"\n",
    "print(favoriteDict)"
   ]
  },
  {
   "cell_type": "markdown",
   "metadata": {},
   "source": [
    "Delete the value/key pair for your favorite season:"
   ]
  },
  {
   "cell_type": "code",
   "execution_count": 13,
   "metadata": {},
   "outputs": [
    {
     "name": "stdout",
     "output_type": "stream",
     "text": [
      "{'food': 'watermelon', 'number': '4', 'age': '14', 'color': 'purple', 'animal': 'Jaguar'}\n"
     ]
    }
   ],
   "source": [
    "del favoriteDict[\"season\"]\n",
    "print(favoriteDict)"
   ]
  },
  {
   "cell_type": "markdown",
   "metadata": {},
   "source": [
    "## Coding Challenge\n",
    "You can loop through the keys in a dictionary. Try creating a new dictionary and using a for loop and conditionals to analyze it:"
   ]
  },
  {
   "cell_type": "code",
   "execution_count": 14,
   "metadata": {},
   "outputs": [
    {
     "name": "stdout",
     "output_type": "stream",
     "text": [
      "My favorite food is watermelon\n",
      "My favorite number is 4\n",
      "My favorite age is 14\n",
      "My favorite color is purple\n",
      "My favorite animal is Jaguar\n"
     ]
    }
   ],
   "source": [
    "for i in favoriteDict:\n",
    "    print(\"My favorite \" + i + \" is \" + favoriteDict[i])"
   ]
  },
  {
   "cell_type": "code",
   "execution_count": null,
   "metadata": {},
   "outputs": [],
   "source": []
  },
  {
   "cell_type": "code",
   "execution_count": null,
   "metadata": {},
   "outputs": [],
   "source": []
  }
 ],
 "metadata": {
  "kernelspec": {
   "display_name": "Python 3",
   "language": "python",
   "name": "python3"
  },
  "language_info": {
   "codemirror_mode": {
    "name": "ipython",
    "version": 3
   },
   "file_extension": ".py",
   "mimetype": "text/x-python",
   "name": "python",
   "nbconvert_exporter": "python",
   "pygments_lexer": "ipython3",
   "version": "3.6.5"
  }
 },
 "nbformat": 4,
 "nbformat_minor": 2
}
