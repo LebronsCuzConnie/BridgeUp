{
 "cells": [
  {
   "cell_type": "markdown",
   "metadata": {},
   "source": [
    "# Unit 4 Final Projects: Calculating evolutionary distance\n",
    "\n",
    "In this notebook you will compare the sequence of a particular gene from 3 different species to find out which two are most closely related. \n",
    "\n",
    "You will need to do the following:\n",
    "1. Open and read in your files\n",
    "2. Decide which sequences to compare (DNA, RNA, or protein)\n",
    "3. Write a function that returns the percent similarity of each pair of sequences\n",
    "4. Call the function on each pair of sequences to find out which are most similar"
   ]
  },
  {
   "cell_type": "markdown",
   "metadata": {
    "collapsed": true
   },
   "source": [
    "#### 1. Open and read in your files"
   ]
  },
  {
   "cell_type": "code",
   "execution_count": 1,
   "metadata": {},
   "outputs": [],
   "source": [
    "Dol = open(\"4_dolphin_CSN2_DNA.txt\").read()\n",
    "Man = open(\"4_manatee_CSN2_DNA.txt\").read()\n",
    "Cow = open(\"4_cow_CSN2_DNA.txt\").read()"
   ]
  },
  {
   "cell_type": "markdown",
   "metadata": {
    "collapsed": true
   },
   "source": [
    "#### 2. Decide which sequences to compare (DNA, RNA, or protein)"
   ]
  },
  {
   "cell_type": "code",
   "execution_count": 2,
   "metadata": {},
   "outputs": [
    {
     "name": "stdout",
     "output_type": "stream",
     "text": [
      "624\n",
      "624\n",
      "624\n"
     ]
    }
   ],
   "source": [
    "#DNA\n",
    "print(len(Dol))\n",
    "print(len(Man))\n",
    "print(len(Cow))"
   ]
  },
  {
   "cell_type": "markdown",
   "metadata": {},
   "source": [
    "#### 3. Write a function that returns the percent similarity of each pair of sequences"
   ]
  },
  {
   "cell_type": "code",
   "execution_count": 26,
   "metadata": {},
   "outputs": [
    {
     "name": "stdout",
     "output_type": "stream",
     "text": [
      "37.5\n",
      "81.41025641025641\n",
      "36.217948717948715\n"
     ]
    }
   ],
   "source": [
    "def similarity(Animal1, Animal2):\n",
    "    length = len(Animal1)\n",
    "    numberofsim = 0\n",
    "    for c, i in enumerate(Animal1):\n",
    "        if Animal2[c] == i:\n",
    "            numberofsim += 1\n",
    "    percentage = numberofsim/length * 100\n",
    "    return percentage\n",
    "    \n",
    "\n",
    "print(similarity(Cow, Man))\n",
    "print(similarity(Cow, Dol))\n",
    "print(similarity(Man, Dol))\n",
    "\n",
    "CvM = similarity(Cow, Man)\n",
    "CvD = similarity(Cow, Dol)\n",
    "DvM = similarity(Man, Dol)\n",
    "\n"
   ]
  },
  {
   "cell_type": "markdown",
   "metadata": {},
   "source": [
    "## Bonus Challenge\n",
    "\n",
    "Visualize your results! Choose a graph type that you think will communicate your conclusions effectively and create it using matplotlib:"
   ]
  },
  {
   "cell_type": "code",
   "execution_count": 46,
   "metadata": {},
   "outputs": [
    {
     "data": {
      "image/png": "[encoded data removed]",
      "text/plain": [
       "<Figure size 432x288 with 1 Axes>"
      ]
     },
     "metadata": {},
     "output_type": "display_data"
    }
   ],
   "source": [
    "import matplotlib.pyplot as plt\n",
    "plt.bar(\"Cow vs Manatee\", CvM, color = \"purple\")\n",
    "plt.bar(\"Cow vs Dolphin\", CvD, color = \"purple\")\n",
    "plt.bar(\"Manatee vs Dolphin\", DvM, color = \"purple\" )\n",
    "plt.ylim(0, 100)\n",
    "plt.title(\"Similarity Percentage\")\n",
    "plt.show()\n"
   ]
  },
  {
   "cell_type": "markdown",
   "metadata": {},
   "source": [
    "## Bonus Challenge 2\n",
    "If you finish your project and want to try a challenge, come up with a hypothesis about which of the following species are most closely related to humans (carp, chicken, chimp, dog, eel, elephant, frog, gorilla, macaque monkey, mouse, orangutan, pig). Write out a ranked list with the species you think is most related to humans at the top.\n",
    "\n",
    "Then calculate the percent difference between the hemoglobin amino acid sequences of humans and each species to find out how close you came to the right ranking!"
   ]
  },
  {
   "cell_type": "code",
   "execution_count": null,
   "metadata": {},
   "outputs": [],
   "source": [
    "plt.bar((similarity(Cow, Man))\n",
    "plt.bar((similarity(Cow, Dol))\n",
    "plt.bar((similarity(Dol, Man))"
   ]
  }
 ],
 "metadata": {
  "kernelspec": {
   "display_name": "Python 3",
   "language": "python",
   "name": "python3"
  },
  "language_info": {
   "codemirror_mode": {
    "name": "ipython",
    "version": 3
   },
   "file_extension": ".py",
   "mimetype": "text/x-python",
   "name": "python",
   "nbconvert_exporter": "python",
   "pygments_lexer": "ipython3",
   "version": "3.6.5"
  }
 },
 "nbformat": 4,
 "nbformat_minor": 2
}
