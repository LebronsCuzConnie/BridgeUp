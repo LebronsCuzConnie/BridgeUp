{
 "cells": [
  {
   "cell_type": "markdown",
   "metadata": {},
   "source": [
    "# Identifying Butterfly Species\n",
    "\n",
    "In this notebook you will get to use your transcription and translation functions to analyze the same gene from four butterflies and find out which pairs are the same species!"
   ]
  },
  {
   "cell_type": "markdown",
   "metadata": {},
   "source": [
    "First, copy and paste your transcription and translation functions here:"
   ]
  },
  {
   "cell_type": "code",
   "execution_count": 1,
   "metadata": {},
   "outputs": [],
   "source": [
    "# Paste your transcription function here\n",
    "RNADict = {\"A\":\"U\", \"T\":\"A\", \"G\":\"C\", \"C\":\"G\"}\n",
    "def transcribe(DNAseq):\n",
    "    RNA = \"\"\n",
    "    for i in DNAseq: \n",
    "        RNA += RNADict[i]\n",
    "    return RNA\n"
   ]
  },
  {
   "cell_type": "code",
   "execution_count": 2,
   "metadata": {},
   "outputs": [],
   "source": [
    "# Paste your translation function here\n",
    "codonDict = {\"UUU\":\"F\",\"UUC\":\"F\",\"UUA\":\"L\",\"UUG\":\"L\", \"CUU\":\"L\",\"CUC\":\"L\", \n",
    "             \"CUA\":\"L\",\"CUG\":\"L\",\"AUU\":\"I\",\"AUC\":\"I\",\"AUA\":\"I\",\"AUG\":\"M\",\n",
    "             \"GUU\":\"V\",\"GUC\":\"V\",\"GUA\":\"V\",\"GUG\":\"V\",\"UCU\":\"S\",\"UCC\":\"S\",\n",
    "             \"UCA\":\"S\",\"UCG\":\"S\",\"CCU\":\"P\",\"CCC\":\"P\",\"CCA\":\"P\",\"CCG\":\"P\",\n",
    "             \"ACU\":\"T\",\"ACC\":\"T\",\"ACA\":\"T\",\"ACG\":\"T\",\"GCU\":\"A\",\"GCC\":\"A\",\n",
    "             \"GCA\":\"A\",\"GCG\":\"A\",\"UAU\":\"Y\",\"UAC\":\"Y\",\"UAA\":\"STOP\",\"UAG\":\"STOP\",\n",
    "             \"UGA\":\"STOP\",\"CAU\":\"H\",\"CAC\":\"H\",\"CAA\":\"Q\",\"CAG\":\"Q\",\"AAU\":\"N\",\n",
    "             \"AAC\":\"N\",\"AAA\":\"K\",\"AAG\":\"K\",\"GAU\":\"D\",\"GAC\":\"D\",\"GAA\":\"E\",\n",
    "             \"GAG\":\"E\",\"UGU\":\"C\",\"UGC\":\"C\",\"UGG\":\"W\",\"CGU\":\"R\",\"CGC\":\"R\",\n",
    "             \"CGA\":\"R\",\"CGG\":\"R\",\"AGU\":\"S\",\"AGC\":\"S\",\"AGA\":\"R\",\"AGG\":\"R\",\n",
    "             \"GGU\":\"G\",\"GGC\":\"G\",\"GGA\":\"G\",\"GGG\":\"G\"}\n",
    "def translate(RNAseq):\n",
    "    protein = \"\"\n",
    "    codon = \"\"\n",
    "    \n",
    "    for i in RNAseq:\n",
    "        if len(codon) == 3:\n",
    "            protein += codonDict[codon]\n",
    "            codon = \"\"\n",
    "            codon += i\n",
    "        else:\n",
    "            codon += i\n",
    "    return protein"
   ]
  },
  {
   "cell_type": "markdown",
   "metadata": {},
   "source": [
    "## Pair Coding Time!!! \n",
    "### Step 1: Make sure you know who the typing partner and the guiding partner are.\n",
    "Open the four butterfly DNA files that have been shared on Slack, read them as strings, and assign them to variables:"
   ]
  },
  {
   "cell_type": "code",
   "execution_count": 3,
   "metadata": {},
   "outputs": [],
   "source": [
    "# You will need the open() function and the .read() method\n",
    "A = open(\"Butterfly_A_DNA.txt\").read()\n",
    "B = open(\"Butterfly_B_DNA.txt\").read()\n",
    "C = open(\"Butterfly_C_DNA.txt\").read()\n",
    "D = open(\"Butterfly_D_DNA.txt\").read()"
   ]
  },
  {
   "cell_type": "markdown",
   "metadata": {},
   "source": [
    "Next find the amino acid sequence for each butterfly and store it in a variable."
   ]
  },
  {
   "cell_type": "code",
   "execution_count": 4,
   "metadata": {},
   "outputs": [],
   "source": [
    "# Hint: You will need to use your functions\n",
    "TransA = transcribe(A)\n",
    "ProteinA = translate(TransA)\n",
    "TransB = transcribe(B)\n",
    "ProteinB = translate(TransB)\n",
    "TransC = transcribe(C)\n",
    "ProteinC = translate(TransC)\n",
    "TransD = transcribe(D)\n",
    "ProteinD = translate(TransD)\n"
   ]
  },
  {
   "cell_type": "markdown",
   "metadata": {},
   "source": [
    "### Step 2: Swap typing partner and the guiding partners!\n",
    "How can we find out how many differences there are between each pair of protein sequences? \n",
    "Create a function that compares two sequences and returns the number of differences:"
   ]
  },
  {
   "cell_type": "code",
   "execution_count": 5,
   "metadata": {},
   "outputs": [
    {
     "data": {
      "text/plain": [
       "0"
      ]
     },
     "execution_count": 5,
     "metadata": {},
     "output_type": "execute_result"
    }
   ],
   "source": [
    "# Hint, you will need the enumerate() function. You can use this in \"for loops\" that loop through strings or lists.\n",
    "# Remember, you must specify two variables in your \"for loop\": one for the index counter and one for the character.\n",
    "# for c , i in enumerate(TransA):\n",
    "    #print(i,c)\n",
    "    \n",
    "def difference(ProteinA, ProteinB):\n",
    "    numberofdif = 0\n",
    "    for c, i in enumerate(ProteinA):\n",
    "        if ProteinB[c] != i:\n",
    "            numberofdif += 1\n",
    "    return numberofdif\n",
    "\n",
    "difference(ProteinA, ProteinB)"
   ]
  },
  {
   "cell_type": "code",
   "execution_count": null,
   "metadata": {},
   "outputs": [],
   "source": []
  },
  {
   "cell_type": "markdown",
   "metadata": {},
   "source": [
    "### Step 3: Swap typing partner and the guiding partners!"
   ]
  },
  {
   "cell_type": "markdown",
   "metadata": {},
   "source": [
    "Run your function for each pair of butterfly protein sequences:"
   ]
  },
  {
   "cell_type": "code",
   "execution_count": 6,
   "metadata": {},
   "outputs": [
    {
     "name": "stdout",
     "output_type": "stream",
     "text": [
      "0\n",
      "0\n",
      "0\n",
      "0\n",
      "0\n",
      "0\n"
     ]
    }
   ],
   "source": [
    "# Hint: You will need to run the function 6 times\n",
    "print(difference(ProteinA, ProteinB))\n",
    "print(difference(ProteinA, ProteinC))\n",
    "print(difference(ProteinA, ProteinD))\n",
    "print(difference(ProteinB, ProteinC))\n",
    "print(difference(ProteinB, ProteinD))\n",
    "print(difference(ProteinC, ProteinD))"
   ]
  },
  {
   "cell_type": "markdown",
   "metadata": {},
   "source": [
    "If you got 0 differences for all 6, that's correct! We'll have to look elsewhere for the differences in the butterfly genes.\n",
    "\n",
    "### Step 4: Swap typing partner and the guiding partners!\n",
    "\n",
    "Try running your function for the DNA sequences instead of the protein sequences (*Notice that you can use the same function for both kinds of sequences!)*:"
   ]
  },
  {
   "cell_type": "code",
   "execution_count": null,
   "metadata": {},
   "outputs": [],
   "source": []
  },
  {
   "cell_type": "code",
   "execution_count": 7,
   "metadata": {},
   "outputs": [
    {
     "name": "stdout",
     "output_type": "stream",
     "text": [
      "15\n",
      "4\n",
      "20\n",
      "15\n",
      "13\n",
      "20\n"
     ]
    }
   ],
   "source": [
    "print(difference(A, B))\n",
    "print(difference(A, C))\n",
    "print(difference(A, D))\n",
    "print(difference(B, C))\n",
    "print(difference(B, D))\n",
    "print(difference(C, D))"
   ]
  },
  {
   "cell_type": "markdown",
   "metadata": {},
   "source": [
    "Based on the number of differences, do you have a guess about which two butterflies are the same species?"
   ]
  },
  {
   "cell_type": "markdown",
   "metadata": {},
   "source": [
    "## Exploring SNPs\n",
    "### Step 5: Swap typing partner and the guiding partners!\n",
    "These DNA differences are actually known variations between species. Called \"single nucleotide polymorphisms\" or SNPs, they can be used to identify a particular species. \n",
    "\n",
    "Using the two dictionaries below, create a function that takes a DNA sequence and a basepair position and returns the butterfly species:"
   ]
  },
  {
   "cell_type": "code",
   "execution_count": 8,
   "metadata": {},
   "outputs": [
    {
     "name": "stdout",
     "output_type": "stream",
     "text": [
      "This species is melpomene\n",
      "This species is erato\n",
      "This species is melpomene\n",
      "This species is erato\n"
     ]
    }
   ],
   "source": [
    "# melpomene and erato are two Heliconius butterfly species\n",
    "# These dictionaries have the DNA basepair # as the key and the chemical base as the value\n",
    "\n",
    "melpomene = {36:\"A\", 156:\"C\", 177:\"T\", 213:\"C\", 276:\"A\", 291:\"A\", 315:\"A\", 333:\"G\", 405:\"C\"}\n",
    "erato = {36:\"G\", 156:\"T\", 177:\"C\", 213:\"T\", 276:\"C\", 291:\"G\", 315:\"C\", 333:\"A\", 405:\"T\"}\n",
    "\n",
    "# Create your function here:\n",
    "# A = DNA sequence of the butterflies\n",
    "# B = base pair position\n",
    "# B - 1 = whatever number in regular count because\n",
    "in code count computer starts at 0\n",
    "def species (A, B):\n",
    "    if A[B-1] == melpomene[B]:\n",
    "        return(\"This species is melpomene\")\n",
    "    elif A[B-1] == erato[B]:\n",
    "        return (\"This species is erato\")\n",
    "    else:\n",
    "        return (\"This species is unknown\")\n",
    "\n",
    "print(species(A, 36))\n",
    "print(species(B, 177))\n",
    "print(species(C, 291))\n",
    "print(species(D, 405))"
   ]
  },
  {
   "cell_type": "markdown",
   "metadata": {},
   "source": [
    "Call your function for the following combinations and print out the results:\n",
    "- Butterfly A, bp 36\n",
    "- Butterfly B, bp 177\n",
    "- Butterfly C, bp 291\n",
    "- Butterfly D, bp 405"
   ]
  },
  {
   "cell_type": "code",
   "execution_count": null,
   "metadata": {},
   "outputs": [],
   "source": []
  },
  {
   "cell_type": "markdown",
   "metadata": {},
   "source": [
    "## Coding Challenge\n",
    "Why do you think these changes to the DNA sequences don't have any effect on the protein sequence?\n",
    "\n",
    "Write a function that tests your hypothesis:"
   ]
  },
  {
   "cell_type": "code",
   "execution_count": null,
   "metadata": {},
   "outputs": [],
   "source": []
  }
 ],
 "metadata": {
  "kernelspec": {
   "display_name": "Python 3",
   "language": "python",
   "name": "python3"
  },
  "language_info": {
   "codemirror_mode": {
    "name": "ipython",
    "version": 3
   },
   "file_extension": ".py",
   "mimetype": "text/x-python",
   "name": "python",
   "nbconvert_exporter": "python",
   "pygments_lexer": "ipython3",
   "version": "3.6.5"
  }
 },
 "nbformat": 4,
 "nbformat_minor": 2
}
