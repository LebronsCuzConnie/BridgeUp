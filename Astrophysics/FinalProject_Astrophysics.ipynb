{
 "cells": [
  {
   "cell_type": "code",
   "execution_count": null,
   "metadata": {},
   "outputs": [],
   "source": [
    "import pandas as pd\n",
    "import numpy as np\n",
    "import matplotlib.pyplot as plt"
   ]
  },
  {
   "cell_type": "markdown",
   "metadata": {},
   "source": [
    "### Intro to .loc index "
   ]
  },
  {
   "cell_type": "code",
   "execution_count": 2,
   "metadata": {},
   "outputs": [
    {
     "data": {
      "text/html": [
       "<div>\n",
       "<style scoped>\n",
       "    .dataframe tbody tr th:only-of-type {\n",
       "        vertical-align: middle;\n",
       "    }\n",
       "\n",
       "    .dataframe tbody tr th {\n",
       "        vertical-align: top;\n",
       "    }\n",
       "\n",
       "    .dataframe thead th {\n",
       "        text-align: right;\n",
       "    }\n",
       "</style>\n",
       "<table border=\"1\" class=\"dataframe\">\n",
       "  <thead>\n",
       "    <tr style=\"text-align: right;\">\n",
       "      <th></th>\n",
       "      <th>column 1</th>\n",
       "      <th>column 2</th>\n",
       "    </tr>\n",
       "  </thead>\n",
       "  <tbody>\n",
       "    <tr>\n",
       "      <th>0</th>\n",
       "      <td>20</td>\n",
       "      <td>0</td>\n",
       "    </tr>\n",
       "    <tr>\n",
       "      <th>1</th>\n",
       "      <td>50</td>\n",
       "      <td>1</td>\n",
       "    </tr>\n",
       "    <tr>\n",
       "      <th>2</th>\n",
       "      <td>15</td>\n",
       "      <td>1</td>\n",
       "    </tr>\n",
       "    <tr>\n",
       "      <th>3</th>\n",
       "      <td>50</td>\n",
       "      <td>1</td>\n",
       "    </tr>\n",
       "    <tr>\n",
       "      <th>4</th>\n",
       "      <td>65</td>\n",
       "      <td>0</td>\n",
       "    </tr>\n",
       "    <tr>\n",
       "      <th>5</th>\n",
       "      <td>50</td>\n",
       "      <td>0</td>\n",
       "    </tr>\n",
       "    <tr>\n",
       "      <th>6</th>\n",
       "      <td>10</td>\n",
       "      <td>1</td>\n",
       "    </tr>\n",
       "  </tbody>\n",
       "</table>\n",
       "</div>"
      ],
      "text/plain": [
       "   column 1  column 2\n",
       "0        20         0\n",
       "1        50         1\n",
       "2        15         1\n",
       "3        50         1\n",
       "4        65         0\n",
       "5        50         0\n",
       "6        10         1"
      ]
     },
     "execution_count": 2,
     "metadata": {},
     "output_type": "execute_result"
    }
   ],
   "source": [
    "sample_df = pd.DataFrame({\"column 1\": [20,50,15,50,65,50,10], \"column 2\": [0,1,1,1,0,0,1]})\n",
    "sample_df"
   ]
  },
  {
   "cell_type": "code",
   "execution_count": 3,
   "metadata": {},
   "outputs": [
    {
     "data": {
      "text/plain": [
       "0    20\n",
       "4    65\n",
       "5    50\n",
       "Name: column 1, dtype: int64"
      ]
     },
     "execution_count": 3,
     "metadata": {},
     "output_type": "execute_result"
    }
   ],
   "source": [
    "#all items from column one that have a value of 0 in column 2\n",
    "sample_df[\"column 1\"].loc[sample_df[\"column 2\"] == 0]"
   ]
  },
  {
   "cell_type": "code",
   "execution_count": 4,
   "metadata": {},
   "outputs": [
    {
     "data": {
      "text/plain": [
       "1    50\n",
       "2    15\n",
       "3    50\n",
       "6    10\n",
       "Name: column 1, dtype: int64"
      ]
     },
     "execution_count": 4,
     "metadata": {},
     "output_type": "execute_result"
    }
   ],
   "source": [
    "#all items from column one that have a value of 1 in column 2\n",
    "sample_df[\"column 1\"].loc[sample_df[\"column 2\"] == 1]"
   ]
  },
  {
   "cell_type": "code",
   "execution_count": 5,
   "metadata": {},
   "outputs": [
    {
     "data": {
      "text/plain": [
       "1    1\n",
       "3    1\n",
       "5    0\n",
       "Name: column 2, dtype: int64"
      ]
     },
     "execution_count": 5,
     "metadata": {},
     "output_type": "execute_result"
    }
   ],
   "source": [
    "#select all values in column two where the value of theat one is 50\n",
    "sample_df[\"column 2\"].loc[sample_df[\"column 1\"] == 50]"
   ]
  },
  {
   "cell_type": "markdown",
   "metadata": {},
   "source": [
    "### Isolate Pleiades from star cluster dataset"
   ]
  },
  {
   "cell_type": "code",
   "execution_count": 6,
   "metadata": {},
   "outputs": [],
   "source": [
    "df = pd.read_csv(\"oh_table.csv\")\n",
    "df.head()\n",
    "pleiades = df[\"group_id\"].loc[df[\"group_id\"] == 0]"
   ]
  },
  {
   "cell_type": "markdown",
   "metadata": {},
   "source": [
    "### Assign variables to G , J, and Distance"
   ]
  },
  {
   "cell_type": "code",
   "execution_count": 7,
   "metadata": {},
   "outputs": [],
   "source": [
    "G = df[\"G\"].loc[df[\"group_id\"] == 0]\n",
    "J = df[\"J\"].loc[df[\"group_id\"] == 0]\n",
    "distance = df[\"distance\"].loc[df[\"group_id\"] == 0]"
   ]
  },
  {
   "cell_type": "code",
   "execution_count": 8,
   "metadata": {},
   "outputs": [
    {
     "name": "stdout",
     "output_type": "stream",
     "text": [
      "0      11.160\n",
      "1       9.066\n",
      "2      10.265\n",
      "3       9.249\n",
      "4      11.553\n",
      "5      10.843\n",
      "6      11.180\n",
      "7      10.713\n",
      "8       9.232\n",
      "9       9.491\n",
      "10      8.745\n",
      "11      7.567\n",
      "12      9.264\n",
      "13      8.340\n",
      "14     11.261\n",
      "15      8.280\n",
      "16      6.073\n",
      "17      7.028\n",
      "18      7.713\n",
      "19     11.102\n",
      "20      7.291\n",
      "21      9.664\n",
      "22     10.171\n",
      "23     10.157\n",
      "24      9.322\n",
      "25     10.511\n",
      "26      7.802\n",
      "27      9.265\n",
      "28      8.858\n",
      "29     10.291\n",
      "        ...  \n",
      "121    11.358\n",
      "122    10.545\n",
      "123    11.850\n",
      "124    11.110\n",
      "125    11.744\n",
      "126     9.938\n",
      "127    11.347\n",
      "128     8.259\n",
      "129     9.663\n",
      "130    11.423\n",
      "131     9.899\n",
      "132    10.897\n",
      "133    12.012\n",
      "134    11.183\n",
      "135    10.798\n",
      "136     8.536\n",
      "137    10.942\n",
      "138     9.168\n",
      "139     9.468\n",
      "140     7.405\n",
      "141    11.136\n",
      "142     8.606\n",
      "143     7.731\n",
      "144    11.220\n",
      "145     8.315\n",
      "146    10.529\n",
      "147     9.884\n",
      "148     8.013\n",
      "149    10.342\n",
      "150    11.088\n",
      "Name: G, Length: 151, dtype: float64\n",
      "0       9.984\n",
      "1       8.137\n",
      "2       9.267\n",
      "3       8.436\n",
      "4      10.096\n",
      "5       9.624\n",
      "6       9.938\n",
      "7       9.601\n",
      "8       8.378\n",
      "9       8.519\n",
      "10      8.071\n",
      "11      7.072\n",
      "12      8.404\n",
      "13      7.753\n",
      "14      9.995\n",
      "15      7.557\n",
      "16      5.968\n",
      "17      6.854\n",
      "18      7.312\n",
      "19      9.863\n",
      "20      7.060\n",
      "21      8.797\n",
      "22      9.086\n",
      "23      9.117\n",
      "24      8.520\n",
      "25      9.477\n",
      "26      7.436\n",
      "27      8.479\n",
      "28      8.184\n",
      "29      9.307\n",
      "        ...  \n",
      "121     9.958\n",
      "122     9.326\n",
      "123    10.254\n",
      "124     9.752\n",
      "125    10.391\n",
      "126     9.011\n",
      "127    10.031\n",
      "128     7.804\n",
      "129     8.720\n",
      "130     9.968\n",
      "131     8.959\n",
      "132     9.801\n",
      "133    10.589\n",
      "134     9.947\n",
      "135     9.705\n",
      "136     8.107\n",
      "137     9.758\n",
      "138     8.188\n",
      "139     8.638\n",
      "140     7.191\n",
      "141     9.897\n",
      "142     7.943\n",
      "143     7.389\n",
      "144     9.903\n",
      "145     7.741\n",
      "146     9.501\n",
      "147     9.018\n",
      "148     7.241\n",
      "149     9.366\n",
      "150     9.836\n",
      "Name: J, Length: 151, dtype: float64\n",
      "0      129.949\n",
      "1      132.557\n",
      "2      148.752\n",
      "3      131.839\n",
      "4      134.194\n",
      "5      122.925\n",
      "6      138.427\n",
      "7      135.054\n",
      "8      126.397\n",
      "9      139.501\n",
      "10     128.602\n",
      "11     130.282\n",
      "12     136.910\n",
      "13     131.034\n",
      "14     139.274\n",
      "15     118.254\n",
      "16     135.672\n",
      "17     132.078\n",
      "18     131.330\n",
      "19     143.055\n",
      "20     140.397\n",
      "21     127.990\n",
      "22     135.377\n",
      "23     137.066\n",
      "24     144.315\n",
      "25     141.358\n",
      "26     129.119\n",
      "27     137.581\n",
      "28     130.996\n",
      "29     134.472\n",
      "        ...   \n",
      "121    136.160\n",
      "122    130.193\n",
      "123    135.846\n",
      "124    135.306\n",
      "125    146.306\n",
      "126    150.472\n",
      "127    140.544\n",
      "128    136.532\n",
      "129    131.921\n",
      "130    133.899\n",
      "131    131.261\n",
      "132    151.388\n",
      "133    129.725\n",
      "134    134.080\n",
      "135    135.455\n",
      "136    145.714\n",
      "137    127.468\n",
      "138    124.362\n",
      "139    141.029\n",
      "140    120.192\n",
      "141    136.107\n",
      "142    133.378\n",
      "143    129.429\n",
      "144    139.284\n",
      "145    127.036\n",
      "146    129.061\n",
      "147    134.723\n",
      "148    128.593\n",
      "149    134.867\n",
      "150    121.638\n",
      "Name: distance, Length: 151, dtype: float64\n"
     ]
    }
   ],
   "source": [
    "print(G)\n",
    "print(J)\n",
    "print(distance)"
   ]
  },
  {
   "cell_type": "markdown",
   "metadata": {},
   "source": [
    "### Assign a variable to absolute magnitude"
   ]
  },
  {
   "cell_type": "markdown",
   "metadata": {},
   "source": [
    "##### convert G to absolute magnitude\n",
    "##### absolute magnitude = G - 5 * log(distance) + 5\n",
    "##### You will need np.log10()"
   ]
  },
  {
   "cell_type": "code",
   "execution_count": 9,
   "metadata": {},
   "outputs": [],
   "source": [
    "abmag = G - 5 * np.log10(distance) + 5"
   ]
  },
  {
   "cell_type": "code",
   "execution_count": 10,
   "metadata": {},
   "outputs": [
    {
     "data": {
      "image/png": "[encoded data removed]",
      "text/plain": [
       "<Figure size 432x288 with 1 Axes>"
      ]
     },
     "metadata": {},
     "output_type": "display_data"
    }
   ],
   "source": [
    "plt.scatter(G - J, abmag )\n",
    "title\n",
    "plt.xlabel(\"Color (G-J)\")\n",
    "plt.ylabel(\"Absolute Magnitude (G)\")\n",
    "plt.show()"
   ]
  },
  {
   "cell_type": "code",
   "execution_count": 11,
   "metadata": {},
   "outputs": [],
   "source": [
    "#assign colors to stars"
   ]
  },
  {
   "cell_type": "code",
   "execution_count": null,
   "metadata": {},
   "outputs": [],
   "source": []
  }
 ],
 "metadata": {
  "kernelspec": {
   "display_name": "Python 3",
   "language": "python",
   "name": "python3"
  },
  "language_info": {
   "codemirror_mode": {
    "name": "ipython",
    "version": 3
   },
   "file_extension": ".py",
   "mimetype": "text/x-python",
   "name": "python",
   "nbconvert_exporter": "python",
   "pygments_lexer": "ipython3",
   "version": "3.6.5"
  }
 },
 "nbformat": 4,
 "nbformat_minor": 2
}
