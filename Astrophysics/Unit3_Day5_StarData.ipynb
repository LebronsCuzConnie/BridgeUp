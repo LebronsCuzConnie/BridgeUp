{
 "cells": [
  {
   "cell_type": "markdown",
   "metadata": {},
   "source": [
    "# Using pandas to study the stars\n",
    "\n",
    "The Tycho-Gaia Astrometric Solution (TGAS) is a collection of 2.5 million stars identified by the Gaia astronomical observatory, a spacecraft launched in 2013. In this notebook, you will practice your pandas skills with a fraction of that dataset."
   ]
  },
  {
   "cell_type": "markdown",
   "metadata": {},
   "source": [
    "First, import pandas and matplotlib.pyplot:"
   ]
  },
  {
   "cell_type": "code",
   "execution_count": 33,
   "metadata": {},
   "outputs": [],
   "source": [
    "import pandas as pd\n",
    "import matplotlib.pyplot as plt"
   ]
  },
  {
   "cell_type": "markdown",
   "metadata": {},
   "source": [
    "Now, open the \"TGAS_data.csv\" file using the pd.read_csv() function."
   ]
  },
  {
   "cell_type": "code",
   "execution_count": 34,
   "metadata": {},
   "outputs": [],
   "source": [
    "df = pd.read_csv(\"TGAS_data.csv\")"
   ]
  },
  {
   "cell_type": "markdown",
   "metadata": {},
   "source": [
    "Look at the first five rows of the dataframe using the .head() method."
   ]
  },
  {
   "cell_type": "code",
   "execution_count": 35,
   "metadata": {},
   "outputs": [
    {
     "data": {
      "text/html": [
       "<div>\n",
       "<style scoped>\n",
       "    .dataframe tbody tr th:only-of-type {\n",
       "        vertical-align: middle;\n",
       "    }\n",
       "\n",
       "    .dataframe tbody tr th {\n",
       "        vertical-align: top;\n",
       "    }\n",
       "\n",
       "    .dataframe thead th {\n",
       "        text-align: right;\n",
       "    }\n",
       "</style>\n",
       "<table border=\"1\" class=\"dataframe\">\n",
       "  <thead>\n",
       "    <tr style=\"text-align: right;\">\n",
       "      <th></th>\n",
       "      <th>TYC2 ID</th>\n",
       "      <th>Epoch</th>\n",
       "      <th>RA (deg)</th>\n",
       "      <th>RA err (mas)</th>\n",
       "      <th>Dec (deg)</th>\n",
       "      <th>Dec err (mas)</th>\n",
       "      <th>Parallax (mas)</th>\n",
       "      <th>Parallax err (mas)</th>\n",
       "    </tr>\n",
       "  </thead>\n",
       "  <tbody>\n",
       "    <tr>\n",
       "      <th>0</th>\n",
       "      <td>1-1001-1</td>\n",
       "      <td>2015</td>\n",
       "      <td>1.414659</td>\n",
       "      <td>0.483</td>\n",
       "      <td>2.448821</td>\n",
       "      <td>0.249</td>\n",
       "      <td>2.96</td>\n",
       "      <td>0.59</td>\n",
       "    </tr>\n",
       "    <tr>\n",
       "      <th>1</th>\n",
       "      <td>1-1009-1</td>\n",
       "      <td>2015</td>\n",
       "      <td>0.137272</td>\n",
       "      <td>0.453</td>\n",
       "      <td>0.721016</td>\n",
       "      <td>0.195</td>\n",
       "      <td>5.77</td>\n",
       "      <td>0.73</td>\n",
       "    </tr>\n",
       "    <tr>\n",
       "      <th>2</th>\n",
       "      <td>1-1016-1</td>\n",
       "      <td>2015</td>\n",
       "      <td>0.426679</td>\n",
       "      <td>0.456</td>\n",
       "      <td>1.786809</td>\n",
       "      <td>0.169</td>\n",
       "      <td>2.66</td>\n",
       "      <td>0.59</td>\n",
       "    </tr>\n",
       "    <tr>\n",
       "      <th>3</th>\n",
       "      <td>1-1021-1</td>\n",
       "      <td>2015</td>\n",
       "      <td>0.484126</td>\n",
       "      <td>0.388</td>\n",
       "      <td>0.434794</td>\n",
       "      <td>0.151</td>\n",
       "      <td>3.16</td>\n",
       "      <td>0.52</td>\n",
       "    </tr>\n",
       "    <tr>\n",
       "      <th>4</th>\n",
       "      <td>1-1024-1</td>\n",
       "      <td>2015</td>\n",
       "      <td>1.080285</td>\n",
       "      <td>0.347</td>\n",
       "      <td>0.875576</td>\n",
       "      <td>0.124</td>\n",
       "      <td>2.63</td>\n",
       "      <td>0.46</td>\n",
       "    </tr>\n",
       "  </tbody>\n",
       "</table>\n",
       "</div>"
      ],
      "text/plain": [
       "        TYC2 ID  Epoch  RA (deg)  RA err (mas)  Dec (deg)  Dec err (mas)  \\\n",
       "0  1-1001-1       2015  1.414659         0.483   2.448821          0.249   \n",
       "1  1-1009-1       2015  0.137272         0.453   0.721016          0.195   \n",
       "2  1-1016-1       2015  0.426679         0.456   1.786809          0.169   \n",
       "3  1-1021-1       2015  0.484126         0.388   0.434794          0.151   \n",
       "4  1-1024-1       2015  1.080285         0.347   0.875576          0.124   \n",
       "\n",
       "   Parallax (mas)  Parallax err (mas)  \n",
       "0            2.96                0.59  \n",
       "1            5.77                0.73  \n",
       "2            2.66                0.59  \n",
       "3            3.16                0.52  \n",
       "4            2.63                0.46  "
      ]
     },
     "execution_count": 35,
     "metadata": {},
     "output_type": "execute_result"
    }
   ],
   "source": [
    "df.head(5)"
   ]
  },
  {
   "cell_type": "markdown",
   "metadata": {},
   "source": [
    "How many rows are there in this dataframe?"
   ]
  },
  {
   "cell_type": "code",
   "execution_count": 36,
   "metadata": {},
   "outputs": [
    {
     "data": {
      "text/plain": [
       "993037"
      ]
     },
     "execution_count": 36,
     "metadata": {},
     "output_type": "execute_result"
    }
   ],
   "source": [
    "# Hint: There is more than one approach to answer this question!\n",
    "len(df)"
   ]
  },
  {
   "cell_type": "markdown",
   "metadata": {},
   "source": [
    "You might notice that one of the columns contains the parallax angle for each star (remember: nearby objects have a larger parallax angle than far away objects).\n",
    "\n",
    "Store the \"parallax\" column in a variable."
   ]
  },
  {
   "cell_type": "code",
   "execution_count": 37,
   "metadata": {},
   "outputs": [],
   "source": [
    "parallex = df[\"Parallax (mas)\"]"
   ]
  },
  {
   "cell_type": "markdown",
   "metadata": {},
   "source": [
    "Find the min, max, and mean parallax angle for this dataset:"
   ]
  },
  {
   "cell_type": "code",
   "execution_count": 38,
   "metadata": {},
   "outputs": [
    {
     "name": "stdout",
     "output_type": "stream",
     "text": [
      "-24.82\n",
      "120.59\n",
      "2.4250942311313683\n"
     ]
    }
   ],
   "source": [
    "print(parallex.min())\n",
    "print(parallex.max())\n",
    "print(parallex.mean())"
   ]
  },
  {
   "cell_type": "markdown",
   "metadata": {},
   "source": [
    "Sort the entire dataframe by parallax angle from largest to smallest and print out the first 10 rows of the sorted dataframe."
   ]
  },
  {
   "cell_type": "code",
   "execution_count": 40,
   "metadata": {},
   "outputs": [],
   "source": [
    "# Remember to assign your sorted dataframe to a new variable\n",
    "parallexSorted= df.sort_values([\"Parallax (mas)\"], ascending = False)\n"
   ]
  },
  {
   "cell_type": "markdown",
   "metadata": {},
   "source": [
    "## Selecting a particular value in a dataframe\n",
    "You can index a single item from a row of the dataframe by specifying the column and then the row index as follows:"
   ]
  },
  {
   "cell_type": "code",
   "execution_count": 41,
   "metadata": {},
   "outputs": [
    {
     "data": {
      "text/plain": [
       "120.59"
      ]
     },
     "execution_count": 41,
     "metadata": {},
     "output_type": "execute_result"
    }
   ],
   "source": [
    "# This code will select the Parallax from the star in row ID 600536\n",
    "df[\"Parallax (mas)\"][600536] "
   ]
  },
  {
   "cell_type": "markdown",
   "metadata": {},
   "source": [
    "Try it yourself! Find the Parallax angle for the star in row index 1."
   ]
  },
  {
   "cell_type": "code",
   "execution_count": null,
   "metadata": {},
   "outputs": [],
   "source": [
    "# Use the following format: df[column name/variable][row index]\n",
    "df[\"Parallax (mas)\"][1] "
   ]
  },
  {
   "cell_type": "markdown",
   "metadata": {},
   "source": [
    "Now find the TYC2 ID for this star\""
   ]
  },
  {
   "cell_type": "code",
   "execution_count": 42,
   "metadata": {},
   "outputs": [
    {
     "data": {
      "text/plain": [
       "'1-1009-1    '"
      ]
     },
     "execution_count": 42,
     "metadata": {},
     "output_type": "execute_result"
    }
   ],
   "source": [
    "df[\"TYC2 ID\"][1]"
   ]
  },
  {
   "cell_type": "markdown",
   "metadata": {},
   "source": [
    "## Let's calculate the distance to these stars based on their parallax angle\n",
    "The parallax angle in this database is measured in milliarcseconds (mas). Add a column called \"Distance (par)\" using the following formula to calculate distance in parsecs: \n",
    "\n",
    "distance (par) = 1 / (parallax/1000)"
   ]
  },
  {
   "cell_type": "code",
   "execution_count": null,
   "metadata": {
    "collapsed": true
   },
   "outputs": [],
   "source": []
  },
  {
   "cell_type": "markdown",
   "metadata": {},
   "source": [
    "Check your dataframe using the .head() method:"
   ]
  },
  {
   "cell_type": "code",
   "execution_count": null,
   "metadata": {},
   "outputs": [],
   "source": []
  },
  {
   "cell_type": "markdown",
   "metadata": {},
   "source": [
    "Find the min, max, and average distance:"
   ]
  },
  {
   "cell_type": "code",
   "execution_count": null,
   "metadata": {},
   "outputs": [],
   "source": []
  },
  {
   "cell_type": "markdown",
   "metadata": {},
   "source": [
    "Why are there negative distances? Can you find anything in the data that could explain this?"
   ]
  },
  {
   "cell_type": "markdown",
   "metadata": {},
   "source": [
    "## Looking at the distribution of distances\n",
    "The mean is helpful when it comes to learning about the average distance in parsecs to the stars we can measure with Gaia, but it doesn't give us the whole picture. Let's create a graph called a \"histogram\" that shows us how many stars have distances in each range.\n",
    "\n",
    "There's a simple matplotlib.pyplot function for this called plt.hist()\n",
    "\n",
    "The plt.hist() function takes three arguments: \n",
    "- The dataframe index (or variable) that you want to look at\n",
    "- *optional* The number of ranges\n",
    "- *optional* (x min, x max)\n",
    "\n",
    "Don't forget plt.show() at the end!"
   ]
  },
  {
   "cell_type": "code",
   "execution_count": null,
   "metadata": {},
   "outputs": [],
   "source": [
    "# First let's try the simplest version. Just use the dataframe index or variable for the distance column:\n",
    "# Don't use the other two arguments for now:\n"
   ]
  },
  {
   "cell_type": "code",
   "execution_count": null,
   "metadata": {},
   "outputs": [],
   "source": [
    "# We can split the data up into more ranges if we specify a number. Try adding 20 as the second argument:\n"
   ]
  },
  {
   "cell_type": "code",
   "execution_count": null,
   "metadata": {},
   "outputs": [],
   "source": [
    "# There are so few stars in the very negative and very positive distances that it's skewing our results.\n",
    "# Let's try specifying a min and max range of (-100, 4000)\n"
   ]
  }
 ],
 "metadata": {
  "kernelspec": {
   "display_name": "Python 3",
   "language": "python",
   "name": "python3"
  },
  "language_info": {
   "codemirror_mode": {
    "name": "ipython",
    "version": 3
   },
   "file_extension": ".py",
   "mimetype": "text/x-python",
   "name": "python",
   "nbconvert_exporter": "python",
   "pygments_lexer": "ipython3",
   "version": "3.6.5"
  }
 },
 "nbformat": 4,
 "nbformat_minor": 2
}
