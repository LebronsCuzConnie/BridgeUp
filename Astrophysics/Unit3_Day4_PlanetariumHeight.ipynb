{
 "cells": [
  {
   "cell_type": "markdown",
   "metadata": {},
   "source": [
    "# Clinometer activity\n",
    "\n",
    "Use this notebook to calculate the height of the Hayden Planetarium based on your measurements of distance and clinometer angle. "
   ]
  },
  {
   "cell_type": "markdown",
   "metadata": {},
   "source": [
    "We will use the numpy library for this activity. It includes lots of functions that make mathematical calculations easier."
   ]
  },
  {
   "cell_type": "code",
   "execution_count": 45,
   "metadata": {},
   "outputs": [],
   "source": [
    "import numpy as np"
   ]
  },
  {
   "cell_type": "markdown",
   "metadata": {},
   "source": [
    "Next, assign the clinometer angle you measured to the variable \"degrees\" below:"
   ]
  },
  {
   "cell_type": "code",
   "execution_count": 46,
   "metadata": {},
   "outputs": [],
   "source": [
    "# Assign the angle in degrees to this variable\n",
    "degrees = 45"
   ]
  },
  {
   "cell_type": "markdown",
   "metadata": {},
   "source": [
    "We can use the numpy function np.deg2rad() to convert our angle from degrees to radians. \n",
    "\n",
    "Fill in the function with the degrees variable and run this code to print out theta."
   ]
  },
  {
   "cell_type": "code",
   "execution_count": 47,
   "metadata": {},
   "outputs": [
    {
     "name": "stdout",
     "output_type": "stream",
     "text": [
      "0.7853981633974483\n"
     ]
    }
   ],
   "source": [
    "# The np.deg2rad() function takes an angle in degrees for its argument and returns that angle in radians.\n",
    "\n",
    "theta = np.deg2rad(45) # Fill in the function with the correct argument\n",
    "print(theta)"
   ]
  },
  {
   "cell_type": "markdown",
   "metadata": {},
   "source": [
    "#### Now it's time to find the height of the planetarium!\n",
    "\n",
    "First, fill in the distance from the observer to the planetarium base (adjacent side):"
   ]
  },
  {
   "cell_type": "code",
   "execution_count": 48,
   "metadata": {},
   "outputs": [],
   "source": [
    "# Assign the distance in meters to this variable\n",
    "adjacent = 52"
   ]
  },
  {
   "cell_type": "markdown",
   "metadata": {},
   "source": [
    "Since we know theta and the length of the adjacent side of our triangle, we can use trigonometry to calculate the opposite side.\n",
    "\n",
    "Remember that tan(theta) = opposite/adjacent\n",
    "\n",
    "We will use the numpy function np.tan() in this calculation:"
   ]
  },
  {
   "cell_type": "code",
   "execution_count": 49,
   "metadata": {},
   "outputs": [
    {
     "name": "stdout",
     "output_type": "stream",
     "text": [
      "51.99999999999999\n"
     ]
    }
   ],
   "source": [
    "opposite = adjacent * np.tan(theta)\n",
    "print(opposite)"
   ]
  },
  {
   "cell_type": "markdown",
   "metadata": {},
   "source": [
    "But there's something missing! You need to add your own height to the length of the opposite side to get the height of the planetarium. \n",
    "\n",
    "Don't know your height in meters? You can use the function below:"
   ]
  },
  {
   "cell_type": "code",
   "execution_count": 50,
   "metadata": {},
   "outputs": [],
   "source": [
    "def heightConverter(feet, inches):\n",
    "    f2i = 14 * 12\n",
    "    total_inches = f2i + 4\n",
    "    meters = total_inches / 39.3701\n",
    "    print(meters)\n",
    "\n",
    "# Call the heightConverter function here if you need to use it\n"
   ]
  },
  {
   "cell_type": "code",
   "execution_count": 51,
   "metadata": {},
   "outputs": [],
   "source": [
    "# Assign your height in meters to this variable\n",
    "my_height = 1.62"
   ]
  },
  {
   "cell_type": "code",
   "execution_count": 52,
   "metadata": {},
   "outputs": [
    {
     "name": "stdout",
     "output_type": "stream",
     "text": [
      "The Hayden Planetarium is 53.61999999999999 meters tall!\n"
     ]
    }
   ],
   "source": [
    "# Add your height to the length of the opposite side of the triangle to get the height of the planetarium\n",
    "print(\"The Hayden Planetarium is\", my_height + opposite, \"meters tall!\")"
   ]
  },
  {
   "cell_type": "markdown",
   "metadata": {},
   "source": [
    "### Congratulations! \n",
    "\n",
    "Now what if you wanted to repeat these calculations for the entire class and find the average building height? How would you do that?\n",
    "\n",
    "If you were thinking pandas... you're right! Let's move on to part two of the activity."
   ]
  },
  {
   "cell_type": "code",
   "execution_count": null,
   "metadata": {},
   "outputs": [],
   "source": []
  },
  {
   "cell_type": "code",
   "execution_count": null,
   "metadata": {},
   "outputs": [],
   "source": []
  }
 ],
 "metadata": {
  "kernelspec": {
   "display_name": "Python 3",
   "language": "python",
   "name": "python3"
  },
  "language_info": {
   "codemirror_mode": {
    "name": "ipython",
    "version": 3
   },
   "file_extension": ".py",
   "mimetype": "text/x-python",
   "name": "python",
   "nbconvert_exporter": "python",
   "pygments_lexer": "ipython3",
   "version": "3.6.5"
  }
 },
 "nbformat": 4,
 "nbformat_minor": 2
}
