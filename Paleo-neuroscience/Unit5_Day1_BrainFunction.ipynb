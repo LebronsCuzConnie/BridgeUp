{
 "cells": [
  {
   "cell_type": "markdown",
   "metadata": {},
   "source": [
    "# Writing a function about brain functions\n",
    "\n",
    "In this Jupyter Notebook you will write a function that takes a phrase as input and returns the regions of the brain that are used to accomplish the actions in the phrase."
   ]
  },
  {
   "cell_type": "markdown",
   "metadata": {},
   "source": [
    "### Step 1: Format the data\n",
    "Here are the brain regions:\n",
    "- Frontal Lobe\n",
    "- Temporal Lobe\n",
    "- Parietal Lobe\n",
    "- Occipital Lobe\n",
    "- Cerebellum\n",
    "- Brain Stem\n",
    "\n",
    "Here are the actions:\n",
    "- looking\n",
    "- touching\n",
    "- seeing\n",
    "- thinking\n",
    "- hearing\n",
    "- breathing\n",
    "- moving\n",
    "- listening\n",
    "- walking\n",
    "- saying\n",
    "- understanding\n",
    "- balancing\n",
    "- remembering\n",
    "\n",
    "Talk to your tablemates about how you should arrange this data. Decide which data type is the best fit to help you store this data in a way that will be useful for your function. Write the code to store the data here: "
   ]
  },
  {
   "cell_type": "code",
   "execution_count": 1,
   "metadata": {},
   "outputs": [],
   "source": [
    "brainDict = {\"looking\":\"occipital lobe\", \"touching\":\"parietal lobe\", \"seeing\":\"occipital lobe\", \n",
    "             \"thinking\":\"frontal lobe\", \"hearing\":\"temporal lobe\", \"breathing\":\"brainstem\", \n",
    "             \"moving\":\"frontal lobe\", \"listening\":\"temporal lobe\", \"walking\":\"frontal lobe\",\n",
    "             \"saying\":\"frontal lobe\", \"understanding\":\"temporal lobe\", \"balancing\":\"cerebellum\", \n",
    "             \"remembering\":\"temporal lobe\"}"
   ]
  },
  {
   "cell_type": "markdown",
   "metadata": {},
   "source": [
    "### Step 2: Write your function:\n",
    "Now that your data is formatted, you can create a function that takes one of the following phrases as an input and returns all the brain regions needed to accomplish the actions in the phrase.\n",
    "\n",
    "Phrases:\n",
    "- \"looking at a beautiful painting\"\n",
    "- \"walking home while listening to music\"\n",
    "- \"touching a ripe avocado and saying: Perfect!\"\n",
    "- \"hearing your friend call your name and moving to look at them\"\n",
    "- \"breathing deeply while balancing during a yoga class\"\n",
    "- \"remembering the first day of school\"\n",
    "- \"seeing a cute dog and thinking about petting it\"\n",
    "- \"understanding a complicated idea\"\n",
    "\n",
    "Hint: You will need to use the str.split() function which takes a string and turns it into a list of all the words in that string"
   ]
  },
  {
   "cell_type": "code",
   "execution_count": 2,
   "metadata": {},
   "outputs": [],
   "source": [
    "\n",
    "def brainRegion(phrase):\n",
    "    splitPhrase = str.split(phrase)\n",
    "    region = []\n",
    "    for i in splitPhrase:\n",
    "        if i in brainDict:\n",
    "            region.append(brainDict[i])\n",
    "    return region\n",
    "        \n"
   ]
  },
  {
   "cell_type": "markdown",
   "metadata": {},
   "source": [
    "### Step 3: Call your function:\n",
    "Call your function for each of the phrases above:"
   ]
  },
  {
   "cell_type": "code",
   "execution_count": 3,
   "metadata": {},
   "outputs": [
    {
     "name": "stdout",
     "output_type": "stream",
     "text": [
      "['occipital lobe']\n",
      "['frontal lobe', 'temporal lobe']\n",
      "['parietal lobe']\n",
      "['temporal lobe', 'frontal lobe']\n",
      "['brainstem', 'cerebellum']\n",
      "['temporal lobe']\n",
      "['temporal lobe']\n",
      "['occipital lobe', 'frontal lobe']\n"
     ]
    }
   ],
   "source": [
    "print(brainRegion(\"looking at a beautiful painting\"))\n",
    "print(brainRegion(\"walking home while listening to music\"))\n",
    "print(brainRegion(\"touching a ripe avocado and saying: Perfect!\"))\n",
    "print(brainRegion(\"hearing your friend call your name and moving to look at them\"))\n",
    "print(brainRegion(\"breathing deeply while balancing during a yoga class\"))\n",
    "print(brainRegion(\"remembering the first day of school\"))\n",
    "print(brainRegion(\"understanding a complicated idea\"))\n",
    "print(brainRegion(\"seeing a cute dog and thinking about petting it\"))\n"
   ]
  },
  {
   "cell_type": "markdown",
   "metadata": {},
   "source": [
    "### Bonus Challenge\n",
    "Make up your own phrases and try calling your function on them!"
   ]
  },
  {
   "cell_type": "code",
   "execution_count": 4,
   "metadata": {},
   "outputs": [
    {
     "name": "stdout",
     "output_type": "stream",
     "text": [
      "['temporal lobe']\n"
     ]
    }
   ],
   "source": [
    "print(brainRegion(\"Looking at LeBron James playing and remembering how much I love him.\"))"
   ]
  }
 ],
 "metadata": {
  "kernelspec": {
   "display_name": "Python 3",
   "language": "python",
   "name": "python3"
  },
  "language_info": {
   "codemirror_mode": {
    "name": "ipython",
    "version": 3
   },
   "file_extension": ".py",
   "mimetype": "text/x-python",
   "name": "python",
   "nbconvert_exporter": "python",
   "pygments_lexer": "ipython3",
   "version": "3.6.5"
  }
 },
 "nbformat": 4,
 "nbformat_minor": 2
}
