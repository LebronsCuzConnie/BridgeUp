{
 "cells": [
  {
   "cell_type": "markdown",
   "metadata": {},
   "source": [
    "# Calculating the body mass of dinosaurs\n",
    "\n",
    "In this Jupyter Notebook you will write a function that takes a femur length and dinosaur type and returns the predicted body mass of the dinosaur. Then you will write a function that finds the average body mass for a given type of dinosaur.\n",
    "\n",
    "### Work with your partner on this Notebook"
   ]
  },
  {
   "cell_type": "markdown",
   "metadata": {},
   "source": [
    "Import numpy and pandas. We won't need pandas for the first part of the activity, but we'll need it later."
   ]
  },
  {
   "cell_type": "code",
   "execution_count": 78,
   "metadata": {},
   "outputs": [],
   "source": [
    "import numpy as np\n",
    "import pandas as pd"
   ]
  },
  {
   "cell_type": "markdown",
   "metadata": {},
   "source": [
    "Here are the equations for converting femur length (FL) to body mass (in kg) for each dinosaur type:"
   ]
  },
  {
   "cell_type": "code",
   "execution_count": 79,
   "metadata": {},
   "outputs": [],
   "source": [
    "#ornithischian: 10**(3.0587*np.log10(FL)-2.7042)/1000\n",
    "\n",
    "#sauropod: 10**(2.3459*np.log10(FL)-0.2935)/1000\n",
    "\n",
    "#theropod: 10**(3.1854*np.log10(FL)-3.184)/1000"
   ]
  },
  {
   "cell_type": "markdown",
   "metadata": {},
   "source": [
    "Using these formulas, create a function that takes *two arguments:* the **dinosaur type** and the **femur length in mm** and *returns* the **dinosaur's body mass**"
   ]
  },
  {
   "cell_type": "code",
   "execution_count": 80,
   "metadata": {},
   "outputs": [],
   "source": [
    "def mass(dino, FL):\n",
    "    if dino == \"ornithischian\":\n",
    "        mass = 10**(3.0587*np.log10(FL)-2.7042)/1000\n",
    "\n",
    "    elif dino == \"sauropod\":\n",
    "        mass = 10**(2.3459*np.log10(FL)-0.2935)/1000\n",
    "\n",
    "    elif dino == \"theropod\":\n",
    "        mass = 10**(3.1854*np.log10(FL)-3.184)/1000\n",
    "\n",
    "    return mass\n"
   ]
  },
  {
   "cell_type": "markdown",
   "metadata": {},
   "source": [
    "Now, call your function with the information for your dinosaur and print the result:"
   ]
  },
  {
   "cell_type": "code",
   "execution_count": 81,
   "metadata": {},
   "outputs": [
    {
     "name": "stdout",
     "output_type": "stream",
     "text": [
      "9.998734527642277\n"
     ]
    }
   ],
   "source": [
    "print(mass(\"theropod\", 180))"
   ]
  },
  {
   "cell_type": "markdown",
   "metadata": {},
   "source": [
    "For reference, here is the average body mass in kg of a few animals:\n",
    "- golden retreivers: 27 kg\n",
    "- humans: 62 kg\n",
    "- elephants: 4500 kg\n",
    "- blue whales: 110,000 kg"
   ]
  },
  {
   "cell_type": "markdown",
   "metadata": {},
   "source": [
    "## Part 2: Working with a larger dataset\n",
    "In the next part of the notebook, you will work with a data set that contains the femur lengths for a number of dinosaurs of each type. "
   ]
  },
  {
   "cell_type": "markdown",
   "metadata": {},
   "source": [
    "Create a variable and read in the CSV file to create a dataframe:"
   ]
  },
  {
   "cell_type": "code",
   "execution_count": 82,
   "metadata": {},
   "outputs": [],
   "source": [
    "dinoF_df = pd.read_csv(\"Dinosaur_FemurLength.csv\")"
   ]
  },
  {
   "cell_type": "markdown",
   "metadata": {},
   "source": [
    "Find the header for this data frame:"
   ]
  },
  {
   "cell_type": "code",
   "execution_count": 83,
   "metadata": {},
   "outputs": [
    {
     "data": {
      "text/html": [
       "<div>\n",
       "<style scoped>\n",
       "    .dataframe tbody tr th:only-of-type {\n",
       "        vertical-align: middle;\n",
       "    }\n",
       "\n",
       "    .dataframe tbody tr th {\n",
       "        vertical-align: top;\n",
       "    }\n",
       "\n",
       "    .dataframe thead th {\n",
       "        text-align: right;\n",
       "    }\n",
       "</style>\n",
       "<table border=\"1\" class=\"dataframe\">\n",
       "  <thead>\n",
       "    <tr style=\"text-align: right;\">\n",
       "      <th></th>\n",
       "      <th>Clade</th>\n",
       "      <th>Genus</th>\n",
       "      <th>Species</th>\n",
       "      <th>Femur length (mm)</th>\n",
       "    </tr>\n",
       "  </thead>\n",
       "  <tbody>\n",
       "    <tr>\n",
       "      <th>0</th>\n",
       "      <td>Ornithischia</td>\n",
       "      <td>Anatosaurus*</td>\n",
       "      <td>copei*</td>\n",
       "      <td>1150.0</td>\n",
       "    </tr>\n",
       "    <tr>\n",
       "      <th>1</th>\n",
       "      <td>Ornithischia</td>\n",
       "      <td>Bactrosaurus</td>\n",
       "      <td>johnsoni</td>\n",
       "      <td>790.5</td>\n",
       "    </tr>\n",
       "    <tr>\n",
       "      <th>2</th>\n",
       "      <td>Ornithischia</td>\n",
       "      <td>Corythosaurus</td>\n",
       "      <td>casuarius</td>\n",
       "      <td>1080.0</td>\n",
       "    </tr>\n",
       "    <tr>\n",
       "      <th>3</th>\n",
       "      <td>Ornithischia</td>\n",
       "      <td>Edmontosaurus</td>\n",
       "      <td>annectens</td>\n",
       "      <td>1068.5</td>\n",
       "    </tr>\n",
       "    <tr>\n",
       "      <th>4</th>\n",
       "      <td>Ornithischia</td>\n",
       "      <td>Edmontosaurus</td>\n",
       "      <td>regalis</td>\n",
       "      <td>1245.0</td>\n",
       "    </tr>\n",
       "  </tbody>\n",
       "</table>\n",
       "</div>"
      ],
      "text/plain": [
       "          Clade          Genus    Species  Femur length (mm)\n",
       "0  Ornithischia   Anatosaurus*     copei*             1150.0\n",
       "1  Ornithischia   Bactrosaurus   johnsoni              790.5\n",
       "2  Ornithischia  Corythosaurus  casuarius             1080.0\n",
       "3  Ornithischia  Edmontosaurus  annectens             1068.5\n",
       "4  Ornithischia  Edmontosaurus    regalis             1245.0"
      ]
     },
     "execution_count": 83,
     "metadata": {},
     "output_type": "execute_result"
    }
   ],
   "source": [
    "dinoF_df.head()"
   ]
  },
  {
   "cell_type": "markdown",
   "metadata": {},
   "source": [
    "Find the number of rows in this data frame:"
   ]
  },
  {
   "cell_type": "code",
   "execution_count": 84,
   "metadata": {},
   "outputs": [
    {
     "data": {
      "text/plain": [
       "77"
      ]
     },
     "execution_count": 84,
     "metadata": {},
     "output_type": "execute_result"
    }
   ],
   "source": [
    "len(dinoF_df)"
   ]
  },
  {
   "cell_type": "markdown",
   "metadata": {},
   "source": [
    "Next, create a function that takes *one argument:* the **dinosaur type** and *returns* the **average body mass** for that dinosaur type.\n",
    "\n",
    "(Note: You do not need to specify the data frame as an argument, because we are only working with a single data frame)\n",
    "\n",
    "Hints: \n",
    "- You will need to use the .loc[] index command that we learned for the Astrophysics unit project.\n",
    "- The three dinosaur types (Clades) in this data set are: Ornithischia, Sauropodomorpha, and Theropoda"
   ]
  },
  {
   "cell_type": "code",
   "execution_count": 85,
   "metadata": {},
   "outputs": [],
   "source": [
    "#def avg_mass(dinoType):\n",
    "    #if dinoType == \"Ornithischia\":\n",
    "        #dinoF_df[\"bodym\"] = dinoF_df[\"Femur length (mm)\"].loc[dinoF_df[\"Clade\"] == \"Ornithischia\"]  \n",
    "\n",
    "    #elif dinoType == \"Sauropodomorpha\":\n",
    "        #dinoF_df[\"bodym\"] = dinoF_df[\"Femur length (mm)\"].loc[dinoF_df[\"Clade\"] == \"Sauropodomorpha\"]\n",
    "\n",
    "    #elif dinoType == \"Theropoda\":\n",
    "        #dinoF_df[\"bodym\"] = dinoF_df[\"Femur length (mm)\"].loc[dinoF_df[\"Clade\"] == \"Theropoda\"]\n",
    "\n",
    "    #bodymass = dinoF_df[\"bodym\"].mean()\n",
    "\n",
    "    #return bodymass"
   ]
  },
  {
   "cell_type": "code",
   "execution_count": 88,
   "metadata": {},
   "outputs": [],
   "source": [
    "def avg_mass(dinotype):\n",
    "    \n",
    "    if dinotype == \"Ornithischia\":\n",
    "        df_new = dinoF_df.loc[dinoF_df[\"Clade\"] == \"Ornithischia\"].copy()\n",
    "        df_new[\"avg_mass\"] = mass(\"Ornithischia\", dinoF_df[\"Femur length (mm)\"])\n",
    "        \n",
    "    if dinotype == \"Sauropodomorpha\":\n",
    "        df_new = dinoF_df.loc[dinoF_df[\"Clade\"] == \"Sauropodomorpha\"].copy()\n",
    "        df_new[\"avg_mass\"] = mass(\"Sauropodomorpha\", dinoF_df[\"Femur length (mm)\"])\n",
    "        \n",
    "    if dinotype == \"Theropoda\":\n",
    "        df_new = dinoF_df.loc[dinoF_df[\"Clade\"] == \"Theropoda\"].copy()\n",
    "        df_new[\"avg_mass\"] = mass(\"Theropoda\" , dinoF_df[\"Femur length (mm)\"])\n",
    "        \n",
    "    return df_new[\"avg_mass\"].mean()"
   ]
  },
  {
   "cell_type": "markdown",
   "metadata": {},
   "source": [
    "Test out your function! Call it for each dinosaur type and print the result:"
   ]
  },
  {
   "cell_type": "code",
   "execution_count": 87,
   "metadata": {},
   "outputs": [
    {
     "ename": "UnboundLocalError",
     "evalue": "local variable 'mass' referenced before assignment",
     "output_type": "error",
     "traceback": [
      "\u001b[0;31m---------------------------------------------------------------------------\u001b[0m",
      "\u001b[0;31mUnboundLocalError\u001b[0m                         Traceback (most recent call last)",
      "\u001b[0;32m<ipython-input-87-15b06e2a47ac>\u001b[0m in \u001b[0;36m<module>\u001b[0;34m()\u001b[0m\n\u001b[0;32m----> 1\u001b[0;31m \u001b[0mavg_mass\u001b[0m\u001b[0;34m(\u001b[0m\u001b[0;34m\"Ornithischia\"\u001b[0m\u001b[0;34m)\u001b[0m\u001b[0;34m\u001b[0m\u001b[0m\n\u001b[0m",
      "\u001b[0;32m<ipython-input-86-3068a12a2060>\u001b[0m in \u001b[0;36mavg_mass\u001b[0;34m(dinotype)\u001b[0m\n\u001b[1;32m      3\u001b[0m     \u001b[0;32mif\u001b[0m \u001b[0mdinotype\u001b[0m \u001b[0;34m==\u001b[0m \u001b[0;34m\"Ornithischia\"\u001b[0m\u001b[0;34m:\u001b[0m\u001b[0;34m\u001b[0m\u001b[0m\n\u001b[1;32m      4\u001b[0m         \u001b[0mdf_new\u001b[0m \u001b[0;34m=\u001b[0m \u001b[0mdinoF_df\u001b[0m\u001b[0;34m.\u001b[0m\u001b[0mloc\u001b[0m\u001b[0;34m[\u001b[0m\u001b[0mdinoF_df\u001b[0m\u001b[0;34m[\u001b[0m\u001b[0;34m\"Clade\"\u001b[0m\u001b[0;34m]\u001b[0m \u001b[0;34m==\u001b[0m \u001b[0;34m\"Ornithischia\"\u001b[0m\u001b[0;34m]\u001b[0m\u001b[0;34m.\u001b[0m\u001b[0mcopy\u001b[0m\u001b[0;34m(\u001b[0m\u001b[0;34m)\u001b[0m\u001b[0;34m\u001b[0m\u001b[0m\n\u001b[0;32m----> 5\u001b[0;31m         \u001b[0mdf_new\u001b[0m\u001b[0;34m[\u001b[0m\u001b[0;34m\"avg_mass\"\u001b[0m\u001b[0;34m]\u001b[0m \u001b[0;34m=\u001b[0m \u001b[0mmass\u001b[0m\u001b[0;34m(\u001b[0m\u001b[0;34m\"Ornithischia\"\u001b[0m\u001b[0;34m,\u001b[0m \u001b[0mdinoF_df\u001b[0m\u001b[0;34m[\u001b[0m\u001b[0;34m\"Femur length (mm)\"\u001b[0m\u001b[0;34m]\u001b[0m\u001b[0;34m)\u001b[0m\u001b[0;34m\u001b[0m\u001b[0m\n\u001b[0m\u001b[1;32m      6\u001b[0m \u001b[0;34m\u001b[0m\u001b[0m\n\u001b[1;32m      7\u001b[0m     \u001b[0;32mif\u001b[0m \u001b[0mdinotype\u001b[0m \u001b[0;34m==\u001b[0m \u001b[0;34m\"Sauropodomorpha\"\u001b[0m\u001b[0;34m:\u001b[0m\u001b[0;34m\u001b[0m\u001b[0m\n",
      "\u001b[0;32m<ipython-input-80-10804a36b48d>\u001b[0m in \u001b[0;36mmass\u001b[0;34m(dino, FL)\u001b[0m\n\u001b[1;32m      9\u001b[0m         \u001b[0mmass\u001b[0m \u001b[0;34m=\u001b[0m \u001b[0;36m10\u001b[0m\u001b[0;34m**\u001b[0m\u001b[0;34m(\u001b[0m\u001b[0;36m3.1854\u001b[0m\u001b[0;34m*\u001b[0m\u001b[0mnp\u001b[0m\u001b[0;34m.\u001b[0m\u001b[0mlog10\u001b[0m\u001b[0;34m(\u001b[0m\u001b[0mFL\u001b[0m\u001b[0;34m)\u001b[0m\u001b[0;34m-\u001b[0m\u001b[0;36m3.184\u001b[0m\u001b[0;34m)\u001b[0m\u001b[0;34m/\u001b[0m\u001b[0;36m1000\u001b[0m\u001b[0;34m\u001b[0m\u001b[0m\n\u001b[1;32m     10\u001b[0m \u001b[0;34m\u001b[0m\u001b[0m\n\u001b[0;32m---> 11\u001b[0;31m     \u001b[0;32mreturn\u001b[0m \u001b[0mmass\u001b[0m\u001b[0;34m\u001b[0m\u001b[0m\n\u001b[0m",
      "\u001b[0;31mUnboundLocalError\u001b[0m: local variable 'mass' referenced before assignment"
     ]
    }
   ],
   "source": [
    "avg_mass(\"Ornithischia\")"
   ]
  },
  {
   "cell_type": "code",
   "execution_count": 53,
   "metadata": {},
   "outputs": [
    {
     "ename": "NameError",
     "evalue": "name 'df' is not defined",
     "output_type": "error",
     "traceback": [
      "\u001b[0;31m---------------------------------------------------------------------------\u001b[0m",
      "\u001b[0;31mNameError\u001b[0m                                 Traceback (most recent call last)",
      "\u001b[0;32m<ipython-input-53-36699ee2a480>\u001b[0m in \u001b[0;36m<module>\u001b[0;34m()\u001b[0m\n\u001b[0;32m----> 1\u001b[0;31m \u001b[0mavg_mass\u001b[0m\u001b[0;34m(\u001b[0m\u001b[0;34m\"Sauropodomorpha\"\u001b[0m\u001b[0;34m)\u001b[0m\u001b[0;34m\u001b[0m\u001b[0m\n\u001b[0m",
      "\u001b[0;32m<ipython-input-51-3ee29e5efb4d>\u001b[0m in \u001b[0;36mavg_mass\u001b[0;34m(dinotype)\u001b[0m\n\u001b[1;32m     17\u001b[0m         \u001b[0mdf_new\u001b[0m\u001b[0;34m[\u001b[0m\u001b[0;34m\"mass\"\u001b[0m\u001b[0;34m]\u001b[0m \u001b[0;34m=\u001b[0m \u001b[0mmass\u001b[0m\u001b[0;34m(\u001b[0m\u001b[0;34m\"Ornithischia\"\u001b[0m\u001b[0;34m,\u001b[0m \u001b[0mdinoF_df\u001b[0m\u001b[0;34m[\u001b[0m\u001b[0;34m\"Femur length (mm)\"\u001b[0m\u001b[0;34m]\u001b[0m\u001b[0;34m)\u001b[0m\u001b[0;34m\u001b[0m\u001b[0m\n\u001b[1;32m     18\u001b[0m     \u001b[0;32mif\u001b[0m \u001b[0mdinotype\u001b[0m \u001b[0;34m==\u001b[0m \u001b[0;34m\"Sauropodomorpha\"\u001b[0m\u001b[0;34m:\u001b[0m\u001b[0;34m\u001b[0m\u001b[0m\n\u001b[0;32m---> 19\u001b[0;31m         \u001b[0mdf_new\u001b[0m \u001b[0;34m=\u001b[0m \u001b[0mdinoF_df\u001b[0m\u001b[0;34m.\u001b[0m\u001b[0mloc\u001b[0m\u001b[0;34m[\u001b[0m\u001b[0mdf\u001b[0m\u001b[0;34m[\u001b[0m\u001b[0;34m\"Clade\"\u001b[0m\u001b[0;34m]\u001b[0m \u001b[0;34m==\u001b[0m \u001b[0;34m\"Sauropodomorpha\"\u001b[0m\u001b[0;34m]\u001b[0m\u001b[0;34m.\u001b[0m\u001b[0mcopy\u001b[0m\u001b[0;34m(\u001b[0m\u001b[0;34m)\u001b[0m\u001b[0;34m\u001b[0m\u001b[0m\n\u001b[0m\u001b[1;32m     20\u001b[0m         \u001b[0mdf_new\u001b[0m\u001b[0;34m[\u001b[0m\u001b[0;34m\"mass\"\u001b[0m\u001b[0;34m]\u001b[0m \u001b[0;34m=\u001b[0m \u001b[0mmass\u001b[0m\u001b[0;34m(\u001b[0m\u001b[0;34m\"Sauropodomorpha\"\u001b[0m\u001b[0;34m,\u001b[0m \u001b[0mdinoF_df\u001b[0m\u001b[0;34m[\u001b[0m\u001b[0;34m\"Femur length (mm)\"\u001b[0m\u001b[0;34m]\u001b[0m\u001b[0;34m)\u001b[0m\u001b[0;34m\u001b[0m\u001b[0m\n\u001b[1;32m     21\u001b[0m     \u001b[0;32mif\u001b[0m \u001b[0mdinotype\u001b[0m \u001b[0;34m==\u001b[0m \u001b[0;34m\"Theropoda\"\u001b[0m\u001b[0;34m:\u001b[0m\u001b[0;34m\u001b[0m\u001b[0m\n",
      "\u001b[0;31mNameError\u001b[0m: name 'df' is not defined"
     ]
    }
   ],
   "source": [
    "avg_mass(\"Sauropodomorpha\")"
   ]
  },
  {
   "cell_type": "code",
   "execution_count": 11,
   "metadata": {},
   "outputs": [
    {
     "data": {
      "text/plain": [
       "635.9516129032259"
      ]
     },
     "execution_count": 11,
     "metadata": {},
     "output_type": "execute_result"
    }
   ],
   "source": [
    "avg_mass(\"Theropoda\")"
   ]
  }
 ],
 "metadata": {
  "kernelspec": {
   "display_name": "Python 3",
   "language": "python",
   "name": "python3"
  },
  "language_info": {
   "codemirror_mode": {
    "name": "ipython",
    "version": 3
   },
   "file_extension": ".py",
   "mimetype": "text/x-python",
   "name": "python",
   "nbconvert_exporter": "python",
   "pygments_lexer": "ipython3",
   "version": "3.6.5"
  }
 },
 "nbformat": 4,
 "nbformat_minor": 2
}
