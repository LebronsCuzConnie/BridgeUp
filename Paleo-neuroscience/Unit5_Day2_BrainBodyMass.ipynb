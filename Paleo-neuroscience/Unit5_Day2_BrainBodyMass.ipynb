{
 "cells": [
  {
   "cell_type": "markdown",
   "metadata": {},
   "source": [
    "# Comparing brain to body mass ratios\n",
    "\n",
    "Remember pandas? It's time to use that library again! In this Jupyter Notebook you will write a function that takes a data frame and two column names and returns the average brain to body mass ratio for a given type of animal. Let's find out how smart animals are!"
   ]
  },
  {
   "cell_type": "markdown",
   "metadata": {},
   "source": [
    "Import the pandas library. We're going to need it!"
   ]
  },
  {
   "cell_type": "code",
   "execution_count": 15,
   "metadata": {},
   "outputs": [],
   "source": [
    "import pandas as pd"
   ]
  },
  {
   "cell_type": "markdown",
   "metadata": {},
   "source": [
    "Now create a data frame for the kind of animal that you worked with earlier today:\n",
    "\n",
    "**Note: We will be making more data frames later, so you should create a more specific variable than \"df\"**"
   ]
  },
  {
   "cell_type": "code",
   "execution_count": 16,
   "metadata": {},
   "outputs": [],
   "source": [
    "fish_df = pd.read_csv(\"fish_body_brain_mass.csv\")"
   ]
  },
  {
   "cell_type": "markdown",
   "metadata": {},
   "source": [
    "Print out the header for this data frame:"
   ]
  },
  {
   "cell_type": "code",
   "execution_count": 17,
   "metadata": {},
   "outputs": [
    {
     "data": {
      "text/html": [
       "<div>\n",
       "<style scoped>\n",
       "    .dataframe tbody tr th:only-of-type {\n",
       "        vertical-align: middle;\n",
       "    }\n",
       "\n",
       "    .dataframe tbody tr th {\n",
       "        vertical-align: top;\n",
       "    }\n",
       "\n",
       "    .dataframe thead th {\n",
       "        text-align: right;\n",
       "    }\n",
       "</style>\n",
       "<table border=\"1\" class=\"dataframe\">\n",
       "  <thead>\n",
       "    <tr style=\"text-align: right;\">\n",
       "      <th></th>\n",
       "      <th>Genus</th>\n",
       "      <th>Species</th>\n",
       "      <th>Body weight (g)</th>\n",
       "      <th>Brain weight (g)</th>\n",
       "      <th>Total length (cm)</th>\n",
       "    </tr>\n",
       "  </thead>\n",
       "  <tbody>\n",
       "    <tr>\n",
       "      <th>0</th>\n",
       "      <td>Acipenser</td>\n",
       "      <td>transmontanus</td>\n",
       "      <td>3520.0</td>\n",
       "      <td>0.6500</td>\n",
       "      <td>NaN</td>\n",
       "    </tr>\n",
       "    <tr>\n",
       "      <th>1</th>\n",
       "      <td>Scaphirhynchus</td>\n",
       "      <td>platorynchus</td>\n",
       "      <td>510.0</td>\n",
       "      <td>0.2360</td>\n",
       "      <td>NaN</td>\n",
       "    </tr>\n",
       "    <tr>\n",
       "      <th>2</th>\n",
       "      <td>Scaphirhynchus</td>\n",
       "      <td>platorynchus</td>\n",
       "      <td>510.0</td>\n",
       "      <td>0.2567</td>\n",
       "      <td>NaN</td>\n",
       "    </tr>\n",
       "    <tr>\n",
       "      <th>3</th>\n",
       "      <td>Amia</td>\n",
       "      <td>calva</td>\n",
       "      <td>727.0</td>\n",
       "      <td>0.3755</td>\n",
       "      <td>NaN</td>\n",
       "    </tr>\n",
       "    <tr>\n",
       "      <th>4</th>\n",
       "      <td>Anguilla</td>\n",
       "      <td>anguilla</td>\n",
       "      <td>650.0</td>\n",
       "      <td>0.1700</td>\n",
       "      <td>NaN</td>\n",
       "    </tr>\n",
       "  </tbody>\n",
       "</table>\n",
       "</div>"
      ],
      "text/plain": [
       "            Genus        Species  Body weight (g)  Brain weight (g)  \\\n",
       "0       Acipenser  transmontanus           3520.0            0.6500   \n",
       "1  Scaphirhynchus   platorynchus            510.0            0.2360   \n",
       "2  Scaphirhynchus   platorynchus            510.0            0.2567   \n",
       "3            Amia          calva            727.0            0.3755   \n",
       "4        Anguilla       anguilla            650.0            0.1700   \n",
       "\n",
       "   Total length (cm)  \n",
       "0                NaN  \n",
       "1                NaN  \n",
       "2                NaN  \n",
       "3                NaN  \n",
       "4                NaN  "
      ]
     },
     "execution_count": 17,
     "metadata": {},
     "output_type": "execute_result"
    }
   ],
   "source": [
    "fish_df.head()"
   ]
  },
  {
   "cell_type": "markdown",
   "metadata": {},
   "source": [
    "Print out the number of rows in this data frame:"
   ]
  },
  {
   "cell_type": "code",
   "execution_count": 18,
   "metadata": {},
   "outputs": [
    {
     "data": {
      "text/plain": [
       "3824"
      ]
     },
     "execution_count": 18,
     "metadata": {},
     "output_type": "execute_result"
    }
   ],
   "source": [
    "len(fish_df)"
   ]
  },
  {
   "cell_type": "markdown",
   "metadata": {},
   "source": [
    "Now it's time to make our function! You want to write a function that takes the name of the dataframe and the name of two columns and returns the average brain to body mass ratio. \n",
    "\n",
    "Remember: a brain to body mass ratio is simply the brain mass divided by the body mass\n",
    "\n",
    "It's probably a good idea to start with pseudocode!"
   ]
  },
  {
   "cell_type": "code",
   "execution_count": 19,
   "metadata": {},
   "outputs": [],
   "source": [
    "#brain = fish_df[\"Brain weight (g)\"]\n",
    "#body = fish_df[\"Body weight (g)\"]\n",
    "\n",
    "def avgBtoB(df, brain, body):\n",
    "    df[\"ratio\"] = df[brain]/df[body]\n",
    "    avg_ratio = df[\"ratio\"].mean \n",
    "    \n",
    "    return avg_ratio\n"
   ]
  },
  {
   "cell_type": "markdown",
   "metadata": {},
   "source": [
    "Call your function for your data frame:"
   ]
  },
  {
   "cell_type": "code",
   "execution_count": 20,
   "metadata": {},
   "outputs": [
    {
     "name": "stdout",
     "output_type": "stream",
     "text": [
      "0.005496294578750244\n"
     ]
    }
   ],
   "source": [
    "print(avgBtoB(fish_df,\"Brain weight (g)\", \"Body weight (g)\"))"
   ]
  },
  {
   "cell_type": "markdown",
   "metadata": {},
   "source": [
    "Now read the other csv files into data frames and call your function for all of them:"
   ]
  },
  {
   "cell_type": "code",
   "execution_count": 21,
   "metadata": {},
   "outputs": [],
   "source": [
    "amphibian_df = pd.read_csv(\"amphibian_body_brain_mass.csv\")\n",
    "bird_df = pd.read_csv(\"bird_body_brain_mass.csv\")\n",
    "mammal_df = pd.read_csv(\"mammal_body_brain_mass.csv\")\n",
    "reptile_df = pd.read_csv(\"reptile_body_brain_mass.csv\")"
   ]
  },
  {
   "cell_type": "code",
   "execution_count": 22,
   "metadata": {},
   "outputs": [
    {
     "data": {
      "text/html": [
       "<div>\n",
       "<style scoped>\n",
       "    .dataframe tbody tr th:only-of-type {\n",
       "        vertical-align: middle;\n",
       "    }\n",
       "\n",
       "    .dataframe tbody tr th {\n",
       "        vertical-align: top;\n",
       "    }\n",
       "\n",
       "    .dataframe thead th {\n",
       "        text-align: right;\n",
       "    }\n",
       "</style>\n",
       "<table border=\"1\" class=\"dataframe\">\n",
       "  <thead>\n",
       "    <tr style=\"text-align: right;\">\n",
       "      <th></th>\n",
       "      <th>Genus</th>\n",
       "      <th>Species</th>\n",
       "      <th>Body weight (g)</th>\n",
       "      <th>Brain weight (g)</th>\n",
       "      <th>Brain volume (mm3)</th>\n",
       "    </tr>\n",
       "  </thead>\n",
       "  <tbody>\n",
       "    <tr>\n",
       "      <th>0</th>\n",
       "      <td>Alytes</td>\n",
       "      <td>obstetricans</td>\n",
       "      <td>7.7000</td>\n",
       "      <td>0.04100</td>\n",
       "      <td>NaN</td>\n",
       "    </tr>\n",
       "    <tr>\n",
       "      <th>1</th>\n",
       "      <td>Bombina</td>\n",
       "      <td>maxima</td>\n",
       "      <td>18.5439</td>\n",
       "      <td>0.04530</td>\n",
       "      <td>22.00</td>\n",
       "    </tr>\n",
       "    <tr>\n",
       "      <th>2</th>\n",
       "      <td>Bombina</td>\n",
       "      <td>maxima</td>\n",
       "      <td>11.7013</td>\n",
       "      <td>0.05298</td>\n",
       "      <td>26.80</td>\n",
       "    </tr>\n",
       "    <tr>\n",
       "      <th>3</th>\n",
       "      <td>Bombina</td>\n",
       "      <td>maxima</td>\n",
       "      <td>22.4508</td>\n",
       "      <td>0.05870</td>\n",
       "      <td>29.87</td>\n",
       "    </tr>\n",
       "    <tr>\n",
       "      <th>4</th>\n",
       "      <td>Bombina</td>\n",
       "      <td>maxima</td>\n",
       "      <td>23.5498</td>\n",
       "      <td>0.03380</td>\n",
       "      <td>NaN</td>\n",
       "    </tr>\n",
       "  </tbody>\n",
       "</table>\n",
       "</div>"
      ],
      "text/plain": [
       "     Genus       Species  Body weight (g)  Brain weight (g)  \\\n",
       "0   Alytes  obstetricans           7.7000           0.04100   \n",
       "1  Bombina        maxima          18.5439           0.04530   \n",
       "2  Bombina        maxima          11.7013           0.05298   \n",
       "3  Bombina        maxima          22.4508           0.05870   \n",
       "4  Bombina        maxima          23.5498           0.03380   \n",
       "\n",
       "   Brain volume (mm3)  \n",
       "0                 NaN  \n",
       "1               22.00  \n",
       "2               26.80  \n",
       "3               29.87  \n",
       "4                 NaN  "
      ]
     },
     "execution_count": 22,
     "metadata": {},
     "output_type": "execute_result"
    }
   ],
   "source": [
    "amphibian_df.head()"
   ]
  },
  {
   "cell_type": "code",
   "execution_count": 23,
   "metadata": {},
   "outputs": [
    {
     "data": {
      "text/html": [
       "<div>\n",
       "<style scoped>\n",
       "    .dataframe tbody tr th:only-of-type {\n",
       "        vertical-align: middle;\n",
       "    }\n",
       "\n",
       "    .dataframe tbody tr th {\n",
       "        vertical-align: top;\n",
       "    }\n",
       "\n",
       "    .dataframe thead th {\n",
       "        text-align: right;\n",
       "    }\n",
       "</style>\n",
       "<table border=\"1\" class=\"dataframe\">\n",
       "  <thead>\n",
       "    <tr style=\"text-align: right;\">\n",
       "      <th></th>\n",
       "      <th>Genus</th>\n",
       "      <th>Species</th>\n",
       "      <th>Brain mass (g)</th>\n",
       "      <th>Body mass (g)</th>\n",
       "    </tr>\n",
       "  </thead>\n",
       "  <tbody>\n",
       "    <tr>\n",
       "      <th>0</th>\n",
       "      <td>Sciurus</td>\n",
       "      <td>aberti</td>\n",
       "      <td>6.850</td>\n",
       "      <td>626.5</td>\n",
       "    </tr>\n",
       "    <tr>\n",
       "      <th>1</th>\n",
       "      <td>Cynomops</td>\n",
       "      <td>abrasus</td>\n",
       "      <td>0.418</td>\n",
       "      <td>33.3</td>\n",
       "    </tr>\n",
       "    <tr>\n",
       "      <th>2</th>\n",
       "      <td>Myoprocta</td>\n",
       "      <td>acouchy</td>\n",
       "      <td>9.900</td>\n",
       "      <td>782.0</td>\n",
       "    </tr>\n",
       "    <tr>\n",
       "      <th>3</th>\n",
       "      <td>Rhinolophus</td>\n",
       "      <td>acuminatus</td>\n",
       "      <td>0.302</td>\n",
       "      <td>12.1</td>\n",
       "    </tr>\n",
       "    <tr>\n",
       "      <th>4</th>\n",
       "      <td>Lagenorhynchus</td>\n",
       "      <td>acutus</td>\n",
       "      <td>1200.000</td>\n",
       "      <td>120000.0</td>\n",
       "    </tr>\n",
       "  </tbody>\n",
       "</table>\n",
       "</div>"
      ],
      "text/plain": [
       "            Genus     Species  Brain mass (g)  Body mass (g)\n",
       "0         Sciurus      aberti           6.850          626.5\n",
       "1        Cynomops     abrasus           0.418           33.3\n",
       "2       Myoprocta     acouchy           9.900          782.0\n",
       "3     Rhinolophus  acuminatus           0.302           12.1\n",
       "4  Lagenorhynchus      acutus        1200.000       120000.0"
      ]
     },
     "execution_count": 23,
     "metadata": {},
     "output_type": "execute_result"
    }
   ],
   "source": [
    "mammal_df.head()"
   ]
  },
  {
   "cell_type": "code",
   "execution_count": 24,
   "metadata": {},
   "outputs": [
    {
     "data": {
      "text/html": [
       "<div>\n",
       "<style scoped>\n",
       "    .dataframe tbody tr th:only-of-type {\n",
       "        vertical-align: middle;\n",
       "    }\n",
       "\n",
       "    .dataframe tbody tr th {\n",
       "        vertical-align: top;\n",
       "    }\n",
       "\n",
       "    .dataframe thead th {\n",
       "        text-align: right;\n",
       "    }\n",
       "</style>\n",
       "<table border=\"1\" class=\"dataframe\">\n",
       "  <thead>\n",
       "    <tr style=\"text-align: right;\">\n",
       "      <th></th>\n",
       "      <th>Genus</th>\n",
       "      <th>Species</th>\n",
       "      <th>Body weight (g)</th>\n",
       "      <th>Brain weight (g)</th>\n",
       "    </tr>\n",
       "  </thead>\n",
       "  <tbody>\n",
       "    <tr>\n",
       "      <th>0</th>\n",
       "      <td>Uromastyx</td>\n",
       "      <td>acanthinurus</td>\n",
       "      <td>164.000</td>\n",
       "      <td>0.335</td>\n",
       "    </tr>\n",
       "    <tr>\n",
       "      <th>1</th>\n",
       "      <td>Crocodylus</td>\n",
       "      <td>acutus</td>\n",
       "      <td>134000.000</td>\n",
       "      <td>15.600</td>\n",
       "    </tr>\n",
       "    <tr>\n",
       "      <th>2</th>\n",
       "      <td>Crocodylus</td>\n",
       "      <td>acutus</td>\n",
       "      <td>110000.000</td>\n",
       "      <td>11.000</td>\n",
       "    </tr>\n",
       "    <tr>\n",
       "      <th>3</th>\n",
       "      <td>Agama</td>\n",
       "      <td>agama</td>\n",
       "      <td>29.300</td>\n",
       "      <td>0.173</td>\n",
       "    </tr>\n",
       "    <tr>\n",
       "      <th>4</th>\n",
       "      <td>Lacerta</td>\n",
       "      <td>agilis</td>\n",
       "      <td>12.057</td>\n",
       "      <td>0.076</td>\n",
       "    </tr>\n",
       "  </tbody>\n",
       "</table>\n",
       "</div>"
      ],
      "text/plain": [
       "        Genus       Species  Body weight (g)  Brain weight (g)\n",
       "0   Uromastyx  acanthinurus          164.000             0.335\n",
       "1  Crocodylus        acutus       134000.000            15.600\n",
       "2  Crocodylus        acutus       110000.000            11.000\n",
       "3       Agama         agama           29.300             0.173\n",
       "4     Lacerta        agilis           12.057             0.076"
      ]
     },
     "execution_count": 24,
     "metadata": {},
     "output_type": "execute_result"
    }
   ],
   "source": [
    "reptile_df.head()"
   ]
  },
  {
   "cell_type": "code",
   "execution_count": 25,
   "metadata": {},
   "outputs": [
    {
     "data": {
      "text/html": [
       "<div>\n",
       "<style scoped>\n",
       "    .dataframe tbody tr th:only-of-type {\n",
       "        vertical-align: middle;\n",
       "    }\n",
       "\n",
       "    .dataframe tbody tr th {\n",
       "        vertical-align: top;\n",
       "    }\n",
       "\n",
       "    .dataframe thead th {\n",
       "        text-align: right;\n",
       "    }\n",
       "</style>\n",
       "<table border=\"1\" class=\"dataframe\">\n",
       "  <thead>\n",
       "    <tr style=\"text-align: right;\">\n",
       "      <th></th>\n",
       "      <th>Genus</th>\n",
       "      <th>Species</th>\n",
       "      <th>Brain mass (g)</th>\n",
       "      <th>Body mass (g)</th>\n",
       "    </tr>\n",
       "  </thead>\n",
       "  <tbody>\n",
       "    <tr>\n",
       "      <th>0</th>\n",
       "      <td>Uria</td>\n",
       "      <td>aalge</td>\n",
       "      <td>4.950</td>\n",
       "      <td>934.5</td>\n",
       "    </tr>\n",
       "    <tr>\n",
       "      <th>1</th>\n",
       "      <td>Uria</td>\n",
       "      <td>aalge</td>\n",
       "      <td>5.631</td>\n",
       "      <td>1184.0</td>\n",
       "    </tr>\n",
       "    <tr>\n",
       "      <th>2</th>\n",
       "      <td>Uria</td>\n",
       "      <td>aalge</td>\n",
       "      <td>4.903</td>\n",
       "      <td>714.0</td>\n",
       "    </tr>\n",
       "    <tr>\n",
       "      <th>3</th>\n",
       "      <td>Uria</td>\n",
       "      <td>aalge</td>\n",
       "      <td>4.360</td>\n",
       "      <td>633.0</td>\n",
       "    </tr>\n",
       "    <tr>\n",
       "      <th>4</th>\n",
       "      <td>Uria</td>\n",
       "      <td>aalge</td>\n",
       "      <td>4.193</td>\n",
       "      <td>586.0</td>\n",
       "    </tr>\n",
       "  </tbody>\n",
       "</table>\n",
       "</div>"
      ],
      "text/plain": [
       "  Genus Species  Brain mass (g)  Body mass (g)\n",
       "0  Uria   aalge           4.950          934.5\n",
       "1  Uria   aalge           5.631         1184.0\n",
       "2  Uria   aalge           4.903          714.0\n",
       "3  Uria   aalge           4.360          633.0\n",
       "4  Uria   aalge           4.193          586.0"
      ]
     },
     "execution_count": 25,
     "metadata": {},
     "output_type": "execute_result"
    }
   ],
   "source": [
    "bird_df.head()"
   ]
  },
  {
   "cell_type": "code",
   "execution_count": 26,
   "metadata": {},
   "outputs": [
    {
     "name": "stdout",
     "output_type": "stream",
     "text": [
      "0.005301439713950685\n",
      "0.02721064048119079\n",
      "0.015537946938777998\n",
      "0.007955436245419471\n"
     ]
    }
   ],
   "source": [
    "print(avgBtoB(amphibian_df,\"Brain weight (g)\", \"Body weight (g)\"))\n",
    "print(avgBtoB(bird_df,\"Brain mass (g)\", \"Body mass (g)\"))\n",
    "print(avgBtoB(mammal_df,\"Brain mass (g)\", \"Body mass (g)\"))\n",
    "print(avgBtoB(reptile_df,\"Brain weight (g)\", \"Body weight (g)\"))"
   ]
  },
  {
   "cell_type": "markdown",
   "metadata": {},
   "source": [
    "## Bonus Challenge"
   ]
  },
  {
   "cell_type": "markdown",
   "metadata": {},
   "source": [
    "Create a variable for each brain to body mass ratio for each kind of animal"
   ]
  },
  {
   "cell_type": "code",
   "execution_count": 27,
   "metadata": {},
   "outputs": [],
   "source": [
    "amphibian_BtoB = avgBtoB(amphibian_df,\"Brain weight (g)\", \"Body weight (g)\")\n",
    "bird_BtoB = avgBtoB(bird_df,\"Brain mass (g)\", \"Body mass (g)\")\n",
    "mammal_BtoB = avgBtoB(mammal_df,\"Brain mass (g)\", \"Body mass (g)\")\n",
    "reptile_BtoB = avgBtoB(reptile_df,\"Brain weight (g)\", \"Body weight (g)\")\n",
    "fish_BtoB = avgBtoB(fish_df,\"Brain weight (g)\", \"Body weight (g)\")"
   ]
  },
  {
   "cell_type": "markdown",
   "metadata": {},
   "source": [
    "Make a graph that compares the brain to body mass ratio for each kind of animal:"
   ]
  },
  {
   "cell_type": "code",
   "execution_count": 28,
   "metadata": {},
   "outputs": [
    {
     "data": {
      "image/png": "[encoded data removed]",
      "text/plain": [
       "<Figure size 432x288 with 1 Axes>"
      ]
     },
     "metadata": {},
     "output_type": "display_data"
    }
   ],
   "source": [
    "import matplotlib.pyplot as plt\n",
    "plt.title(\"Brain to Body Mass Ratio\")\n",
    "plt.ylabel(\"Ratio (g)\")\n",
    "plt.ylim(0, 0.030)\n",
    "plt.bar(\"Birds\", bird_BtoB, color = \"red\")\n",
    "plt.bar(\"Mammals\", mammal_BtoB, color = \"orange\")\n",
    "plt.bar(\"Reptiles\", reptile_BtoB, color = \"yellow\")\n",
    "plt.bar(\"Fish\", fish_BtoB, color = \"green\")\n",
    "plt.bar(\"Amphibians\", amphibian_BtoB, color = \"blue\")\n",
    "plt.show()\n"
   ]
  },
  {
   "cell_type": "markdown",
   "metadata": {},
   "source": [
    "Next Step: Find the brain to body ratio (not the average because there's only one type of human) of an average human"
   ]
  },
  {
   "cell_type": "code",
   "execution_count": 29,
   "metadata": {},
   "outputs": [],
   "source": [
    "#about 0.025"
   ]
  },
  {
   "cell_type": "code",
   "execution_count": null,
   "metadata": {},
   "outputs": [],
   "source": []
  }
 ],
 "metadata": {
  "kernelspec": {
   "display_name": "Python 3",
   "language": "python",
   "name": "python3"
  },
  "language_info": {
   "codemirror_mode": {
    "name": "ipython",
    "version": 3
   },
   "file_extension": ".py",
   "mimetype": "text/x-python",
   "name": "python",
   "nbconvert_exporter": "python",
   "pygments_lexer": "ipython3",
   "version": "3.6.5"
  }
 },
 "nbformat": 4,
 "nbformat_minor": 2
}
