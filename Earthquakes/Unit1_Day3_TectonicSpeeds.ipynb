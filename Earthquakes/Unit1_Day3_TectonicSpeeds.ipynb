{
 "cells": [
  {
   "cell_type": "markdown",
   "metadata": {},
   "source": [
    "# Tectonic plate speeds and lists\n",
    "\n",
    "In this notebook we'll analyze the speed of different types of tectonic plates. You'll also get to practice using lists.\n",
    "\n",
    "**Reminder: To run the code in a Jupyter Notebook cell, click inside the cell and press \"shift\" and \"return\" on your keyboard at the same time.**"
   ]
  },
  {
   "cell_type": "markdown",
   "metadata": {},
   "source": [
    "## Working with lists\n",
    "Create a variable for each set of tectonic plates and assign a list of speeds to each one:"
   ]
  },
  {
   "cell_type": "code",
   "execution_count": 9,
   "metadata": {},
   "outputs": [],
   "source": [
    "Ocean_speed = [7.87, 7.74, 6.11, 7.69, 4.16]\n",
    "Continent_speed = [1.71, 4.34, 2.00, 3.35, 1.96]"
   ]
  },
  {
   "cell_type": "markdown",
   "metadata": {},
   "source": [
    "Use the len() function to find the length of these two lists:"
   ]
  },
  {
   "cell_type": "code",
   "execution_count": 10,
   "metadata": {},
   "outputs": [
    {
     "data": {
      "text/plain": [
       "5"
      ]
     },
     "execution_count": 10,
     "metadata": {},
     "output_type": "execute_result"
    }
   ],
   "source": [
    "len(Ocean_speed)\n",
    "len(Continent_speed)"
   ]
  },
  {
   "cell_type": "markdown",
   "metadata": {},
   "source": [
    "Now, use the .append() method to add the new values to the lists:"
   ]
  },
  {
   "cell_type": "code",
   "execution_count": 11,
   "metadata": {},
   "outputs": [],
   "source": [
    "Ocean_speed.append(4.0)\n",
    "Continent_speed.append(2.14)"
   ]
  },
  {
   "cell_type": "markdown",
   "metadata": {},
   "source": [
    "Print out the lengths of the two lists again:"
   ]
  },
  {
   "cell_type": "code",
   "execution_count": 12,
   "metadata": {},
   "outputs": [
    {
     "data": {
      "text/plain": [
       "6"
      ]
     },
     "execution_count": 12,
     "metadata": {},
     "output_type": "execute_result"
    }
   ],
   "source": [
    "len(Ocean_speed)\n",
    "len(Continent_speed)"
   ]
  },
  {
   "cell_type": "markdown",
   "metadata": {},
   "source": [
    "Now, print out the lists themselves:"
   ]
  },
  {
   "cell_type": "code",
   "execution_count": 13,
   "metadata": {},
   "outputs": [
    {
     "name": "stdout",
     "output_type": "stream",
     "text": [
      "[7.87, 7.74, 6.11, 7.69, 4.16, 4.0]\n",
      "[1.71, 4.34, 2.0, 3.35, 1.96, 2.14]\n"
     ]
    }
   ],
   "source": [
    "print(Ocean_speed)\n",
    "print(Continent_speed)"
   ]
  },
  {
   "cell_type": "markdown",
   "metadata": {},
   "source": [
    "Use the sum() function to find the sum of all values in each list:"
   ]
  },
  {
   "cell_type": "markdown",
   "metadata": {},
   "source": []
  },
  {
   "cell_type": "code",
   "execution_count": 14,
   "metadata": {},
   "outputs": [
    {
     "name": "stdout",
     "output_type": "stream",
     "text": [
      "37.57\n",
      "15.5\n"
     ]
    }
   ],
   "source": [
    "print(sum(Ocean_speed))\n",
    "print(sum(Continent_speed))"
   ]
  },
  {
   "cell_type": "markdown",
   "metadata": {},
   "source": [
    "Use the min() function to find the minimum value in each list:"
   ]
  },
  {
   "cell_type": "code",
   "execution_count": 15,
   "metadata": {},
   "outputs": [
    {
     "name": "stdout",
     "output_type": "stream",
     "text": [
      "4.0\n",
      "1.71\n"
     ]
    }
   ],
   "source": [
    "print(min(Ocean_speed))\n",
    "print(min(Continent_speed))"
   ]
  },
  {
   "cell_type": "markdown",
   "metadata": {},
   "source": [
    "Use the max() function to find the maximum value in each list:"
   ]
  },
  {
   "cell_type": "code",
   "execution_count": 16,
   "metadata": {},
   "outputs": [
    {
     "name": "stdout",
     "output_type": "stream",
     "text": [
      "7.87\n",
      "4.34\n"
     ]
    }
   ],
   "source": [
    "print(max(Ocean_speed))\n",
    "print(max(Continent_speed))"
   ]
  },
  {
   "cell_type": "markdown",
   "metadata": {},
   "source": [
    "Use an index to print out the first item in each list:"
   ]
  },
  {
   "cell_type": "code",
   "execution_count": 18,
   "metadata": {},
   "outputs": [
    {
     "name": "stdout",
     "output_type": "stream",
     "text": [
      "7.87\n",
      "1.71\n"
     ]
    }
   ],
   "source": [
    "print(Ocean_speed[0])\n",
    "print(Continent_speed[0])"
   ]
  },
  {
   "cell_type": "markdown",
   "metadata": {},
   "source": [
    "## Finding an average\n",
    "Try to calculate the average of the values in each list, assign these values to new variables, and print them out."
   ]
  },
  {
   "cell_type": "code",
   "execution_count": 22,
   "metadata": {},
   "outputs": [
    {
     "name": "stdout",
     "output_type": "stream",
     "text": [
      "6.261666666666667\n",
      "2.5833333333333335\n"
     ]
    }
   ],
   "source": [
    "oceanic_avg = sum(Ocean_speed)/len(Ocean_speed)\n",
    "continental_avg = sum(Continent_speed)/len(Continent_speed)\n",
    "print(oceanic_avg)\n",
    "print(continental_avg)"
   ]
  },
  {
   "cell_type": "markdown",
   "metadata": {},
   "source": [
    "## Making a graph"
   ]
  },
  {
   "cell_type": "code",
   "execution_count": 23,
   "metadata": {},
   "outputs": [
    {
     "data": {
      "image/png": "[encoded data removed]",
      "text/plain": [
       "<Figure size 432x288 with 1 Axes>"
      ]
     },
     "metadata": {},
     "output_type": "display_data"
    }
   ],
   "source": [
    "# We will use the matplotlib library to create a bar graph of the two averages\n",
    "import matplotlib.pyplot as plt\n",
    "plt.bar(x_loc)\n",
    "plt.xticks([0,1,2,3,4],[\"\"])\n",
    "plt.title(\"Temp Anomaly (C)\")\n",
    "plt.show()"
   ]
  },
  {
   "cell_type": "code",
   "execution_count": null,
   "metadata": {},
   "outputs": [],
   "source": []
  }
 ],
 "metadata": {
  "kernelspec": {
   "display_name": "Python 3",
   "language": "python",
   "name": "python3"
  },
  "language_info": {
   "codemirror_mode": {
    "name": "ipython",
    "version": 3
   },
   "file_extension": ".py",
   "mimetype": "text/x-python",
   "name": "python",
   "nbconvert_exporter": "python",
   "pygments_lexer": "ipython3",
   "version": "3.6.5"
  }
 },
 "nbformat": 4,
 "nbformat_minor": 2
}
