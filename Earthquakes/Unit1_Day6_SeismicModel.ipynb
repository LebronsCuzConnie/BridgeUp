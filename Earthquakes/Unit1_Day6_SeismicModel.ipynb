{
 "cells": [
  {
   "cell_type": "markdown",
   "metadata": {},
   "source": [
    "# Testing a model for seismic waves\n",
    "\n",
    "In this notebook you will collect data in a list, use a \"for loop\" to perform calculations on that data, and make a graph to test the accuracy of a model for the Earth's interior.\n",
    "\n",
    "Complete the section based on which group you were assigned to (\"Seismologists\" or \"Theoreticians\"):"
   ]
  },
  {
   "cell_type": "code",
   "execution_count": null,
   "metadata": {
    "collapsed": true
   },
   "outputs": [],
   "source": [
    "# Because we will use matplotlib at the end of the notebook, let's import the library\n",
    "import matplotlib.pyplot as plt"
   ]
  },
  {
   "cell_type": "markdown",
   "metadata": {},
   "source": [
    "## Theoreticians\n",
    "Draw lines representing 12 hypothetical seismometer recording stations on your Earth cross-section model, including both very close stations and very distant stations.\n",
    "\n",
    "Use a protractor to calculate the geocentric angle of each station (the distance from the epicenter in degrees) and put those numbers in a list below:"
   ]
  },
  {
   "cell_type": "code",
   "execution_count": null,
   "metadata": {
    "collapsed": true
   },
   "outputs": [],
   "source": []
  },
  {
   "cell_type": "markdown",
   "metadata": {},
   "source": [
    "Now draw straight lines representing seismic waves from the epicenter to each seismograph. Measure the length of these paths in centimeters (cm) and add them to a list below:"
   ]
  },
  {
   "cell_type": "code",
   "execution_count": null,
   "metadata": {
    "collapsed": true
   },
   "outputs": [],
   "source": []
  },
  {
   "cell_type": "markdown",
   "metadata": {},
   "source": [
    "Now, create an empty list called \"travel_time_t\" and use a \"for loop\" to append the travel time in minutes to the list based on the distances in cm you just measured and the following model:\n",
    "- Seismic waves travel 320 km through the Earth for every 1 cm measured\n",
    "- Seismic waves travel 11 km per second\n",
    "- There are 60 seconds in a minute"
   ]
  },
  {
   "cell_type": "code",
   "execution_count": null,
   "metadata": {},
   "outputs": [],
   "source": []
  },
  {
   "cell_type": "markdown",
   "metadata": {},
   "source": [
    "## Seismologists\n",
    "Look at the seismogram record section you have been given and create two lists:\n",
    "1. A list of station distances from the earthquake epicenter in degrees (ex. the first one is about 9)\n",
    "2. A list of minutes after 6 AM when the seismic wave was detected (ex. the first one is about 37)"
   ]
  },
  {
   "cell_type": "code",
   "execution_count": 26,
   "metadata": {},
   "outputs": [],
   "source": [
    "distance = [9, 23, 38, 50, 62, 78, 89, 100, 111, 123, 138, 150, 162, 177]\n",
    "minutes = [37, 40, 42.5, 43, 45, 46, 47, 48, 49, 52, 53, 54, 54, 54]"
   ]
  },
  {
   "cell_type": "markdown",
   "metadata": {},
   "source": [
    "Create an empty list called \"travel_time_s\" and then use a \"for loop\" to append the number of minutes it took each seismic wave to reach the station. Remember, that the earthquake occured at 6:34 AM."
   ]
  },
  {
   "cell_type": "code",
   "execution_count": 27,
   "metadata": {},
   "outputs": [],
   "source": [
    "travel_time_s = []\n",
    "for i in minutes:\n",
    "    travel_time_s.append(i - 34)"
   ]
  },
  {
   "cell_type": "markdown",
   "metadata": {},
   "source": [
    "## Evaluate the model\n",
    "Create a graph using plt.scatter() that compares the distance from the epicenter in degrees (x data) vs the travel time in minutes for seismic waves (y data) for both the theoretical data and the seismologist's data:"
   ]
  },
  {
   "cell_type": "code",
   "execution_count": 36,
   "metadata": {},
   "outputs": [
    {
     "data": {
      "image/png": "[encoded data removed]",
      "text/plain": [
       "<Figure size 432x288 with 1 Axes>"
      ]
     },
     "metadata": {},
     "output_type": "display_data"
    }
   ],
   "source": [
    "import matplotlib.pyplot as plt\n",
    "plt.scatter(distance, travel_time_s, label = \"Seismologist data\")\n",
    "plt.legend()\n",
    "geo_angles = [37,59,63,79,91,105,128,142,155,173]\n",
    "travel_time_t = [3.8787878787878785, 7.757575757575757, 9.696969696969697, 11.151515151515152, 13.090909090909092, 14.545454545454545, 16.96969696969697, 17.939393939393938, 18.424242424242426, 18.90909090909091]\n",
    "plt.scatter(geo_angles, travel_time_t, label = \"Theoretician data\")\n",
    "plt.legend()\n",
    "plt.title(\"Comparing theoretical vs seismologist data of seismic waves\")\n",
    "plt.xlabel(\"Distance from epicenter (km)\")\n",
    "plt.ylabel(\"Travel time (s)\")\n",
    "plt.show()"
   ]
  },
  {
   "cell_type": "code",
   "execution_count": null,
   "metadata": {},
   "outputs": [],
   "source": []
  },
  {
   "cell_type": "code",
   "execution_count": null,
   "metadata": {},
   "outputs": [],
   "source": [
    "\n",
    "\n"
   ]
  },
  {
   "cell_type": "code",
   "execution_count": null,
   "metadata": {},
   "outputs": [],
   "source": []
  }
 ],
 "metadata": {
  "kernelspec": {
   "display_name": "Python 3",
   "language": "python",
   "name": "python3"
  },
  "language_info": {
   "codemirror_mode": {
    "name": "ipython",
    "version": 3
   },
   "file_extension": ".py",
   "mimetype": "text/x-python",
   "name": "python",
   "nbconvert_exporter": "python",
   "pygments_lexer": "ipython3",
   "version": "3.6.5"
  }
 },
 "nbformat": 4,
 "nbformat_minor": 2
}
