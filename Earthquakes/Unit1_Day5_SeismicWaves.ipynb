{
 "cells": [
  {
   "cell_type": "markdown",
   "metadata": {},
   "source": [
    "# Exploring Seismic Waves\n",
    "\n",
    "In this notebook you'll use your coding skills to explore S and P seismic waves, make another graph, and learn more about importing libraries.\n",
    "\n",
    "**Reminder: To run the code in a Jupyter Notebook cell, click inside the cell and press \"shift\" and \"return\" on your keyboard at the same time.**"
   ]
  },
  {
   "cell_type": "markdown",
   "metadata": {
    "collapsed": true
   },
   "source": [
    "We will use two libraries in this Notebook, matplotlib.pyplot and numpy. Run the cell below to import the libraries.\n"
   ]
  },
  {
   "cell_type": "code",
   "execution_count": 3,
   "metadata": {},
   "outputs": [],
   "source": [
    "import matplotlib.pyplot as plt\n",
    "import numpy as np\n",
    "\n",
    "# Note: It's generally a good idea to import any libraries you'll need at the top of your program \n",
    "# so that you can use them in all of your code and you don't have to remember to import them later"
   ]
  },
  {
   "cell_type": "markdown",
   "metadata": {},
   "source": [
    "**We will be working with data from a dataset of P and S wave records at different seismometer stations after a 6.70 magnitude earthquake in California in 1994.\n",
    "The earthquake occured at 12:30 AM on January 17th, 1994**"
   ]
  },
  {
   "cell_type": "markdown",
   "metadata": {},
   "source": [
    "We'll need three lists for this analysis:\n",
    "1. The distance in km that each seismometer was from the focus\n",
    "2. The time in seconds that it took for each seismometer to detect a P wave\n",
    "3. The time in seconds that it took for each seismometer to detect an S wave"
   ]
  },
  {
   "cell_type": "code",
   "execution_count": 4,
   "metadata": {},
   "outputs": [],
   "source": [
    "distance = [2.18, 1.39, 1.79, 0.31, 1.0, 1.2, 1.06, 0.18, 0.35]\n",
    "p_times = [35, 25, 30, 7, 19, 22, 20, 2, 7]\n",
    "s_times = [68, 43, 57, 12, 32, 38, 34, 4, 9]"
   ]
  },
  {
   "cell_type": "markdown",
   "metadata": {},
   "source": [
    "Before we make a graph, let's find the average amount of time it took for a seismometer to detect P waves vs S waves. \n",
    "\n",
    "You could use the sum() and len() function like before, but the numpy library has a built in average function called np.mean(). \n",
    "\n",
    "Try printing out the mean of each list of times:"
   ]
  },
  {
   "cell_type": "code",
   "execution_count": 5,
   "metadata": {},
   "outputs": [
    {
     "name": "stdout",
     "output_type": "stream",
     "text": [
      "1.051111111111111\n",
      "18.555555555555557\n",
      "33.0\n"
     ]
    }
   ],
   "source": [
    "print(np.mean(distance))\n",
    "print(np.mean(p_times))\n",
    "print(np.mean(s_times))"
   ]
  },
  {
   "cell_type": "markdown",
   "metadata": {},
   "source": [
    "Is this what you expect? Write a conditional that compares the two averages and prints out which kind of seismic wave travels faster:"
   ]
  },
  {
   "cell_type": "code",
   "execution_count": 7,
   "metadata": {},
   "outputs": [
    {
     "name": "stdout",
     "output_type": "stream",
     "text": [
      "The average speed of s waves is greater than the average speed of p waves!\n"
     ]
    }
   ],
   "source": [
    "s_times_avg = np.mean(s_times)\n",
    "p_times_avg = np.mean(p_times)\n",
    "\n",
    "if s_times_avg > p_times_avg:\n",
    "    print (\"The average speed of s waves is greater than the average speed of p waves!\")\n",
    "elif p_times_avg > s_times_avg:\n",
    "    print(\"The average speed of p waves is greater than the average speed of s waves!\")\n",
    "else:\n",
    "    print(\"The average speed of p waves is the same as the average speed of s waves!\")\n"
   ]
  },
  {
   "cell_type": "markdown",
   "metadata": {},
   "source": [
    "Now, let's use the matplotlib.pyplot library to make a graph! You will need to use the following functions:\n",
    "- plt.scatter(x data list, y data list) - Makes a scatter plot\n",
    "- plt.title(\"Graph title\") - Adds a title\n",
    "- plt.xlabel(\"x axis label\") - Adds an x axis label\n",
    "- plt.ylabel(\"y axis label\") - Adds a y axis label\n",
    "- plt.show() - Always goes last. Shows all the graphs in one plot"
   ]
  },
  {
   "cell_type": "code",
   "execution_count": 9,
   "metadata": {},
   "outputs": [
    {
     "data": {
      "image/png": "[encoded data removed]",
      "text/plain": [
       "<Figure size 432x288 with 1 Axes>"
      ]
     },
     "metadata": {},
     "output_type": "display_data"
    }
   ],
   "source": [
    "plt.scatter(distance, p_times, label = \"p waves\")\n",
    "plt.scatter(distance, s_times, label = \"s waves\")\n",
    "plt.legend()\n",
    "plt.title(\"Commparing Seismic Waves\")\n",
    "plt.xlabel(\"Distance from epicenter(km)\")\n",
    "plt.ylabel(\"Time to detection(sec)\")\n",
    "plt.show()"
   ]
  },
  {
   "cell_type": "code",
   "execution_count": null,
   "metadata": {},
   "outputs": [],
   "source": []
  }
 ],
 "metadata": {
  "kernelspec": {
   "display_name": "Python 3",
   "language": "python",
   "name": "python3"
  },
  "language_info": {
   "codemirror_mode": {
    "name": "ipython",
    "version": 3
   },
   "file_extension": ".py",
   "mimetype": "text/x-python",
   "name": "python",
   "nbconvert_exporter": "python",
   "pygments_lexer": "ipython3",
   "version": "3.6.5"
  }
 },
 "nbformat": 4,
 "nbformat_minor": 2
}
