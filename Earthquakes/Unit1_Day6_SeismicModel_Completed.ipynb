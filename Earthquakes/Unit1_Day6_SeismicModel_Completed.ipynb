{
 "cells": [
  {
   "cell_type": "markdown",
   "metadata": {},
   "source": [
    "# Testing a model for seismic waves\n",
    "\n",
    "In this notebook you will collect data in a list, use a \"for loop\" to perform calculations on that data, and make a graph to test the accuracy of a model for the Earth's interior.\n",
    "\n",
    "Complete the section based on which group you were assigned to (\"Seismologists\" or \"Theoreticians\"):"
   ]
  },
  {
   "cell_type": "code",
   "execution_count": 1,
   "metadata": {
    "collapsed": true
   },
   "outputs": [],
   "source": [
    "# Because we will use matplotlib at the end of the notebook, let's import the library\n",
    "import matplotlib.pyplot as plt"
   ]
  },
  {
   "cell_type": "markdown",
   "metadata": {},
   "source": [
    "## Theoreticians\n",
    "Draw lines representing 12 hypothetical seismometer recording stations on your Earth cross-section model, including both very close stations and very distant stations.\n",
    "\n",
    "Use a protractor to calculate the geocentric angle of each station (the distance from the epicenter in degrees) and put those numbers in a list below:"
   ]
  },
  {
   "cell_type": "code",
   "execution_count": 2,
   "metadata": {
    "collapsed": true
   },
   "outputs": [],
   "source": [
    "degrees_t = [15, 30, 45, 60, 75, 90, 105, 120, 135, 150, 165, 180]"
   ]
  },
  {
   "cell_type": "markdown",
   "metadata": {},
   "source": [
    "Now draw straight lines representing seismic waves from the epicenter to each seismograph. Measure the length of these paths in centimeters (cm) and add them to a list below:"
   ]
  },
  {
   "cell_type": "code",
   "execution_count": 12,
   "metadata": {
    "collapsed": true
   },
   "outputs": [],
   "source": [
    "distance_t = [5.8, 10.7, 15.7, 20, 25, 27.75, 32, 34, 36, 38, 39, 40]"
   ]
  },
  {
   "cell_type": "markdown",
   "metadata": {},
   "source": [
    "Now, create an empty list called \"travel_time_t\" and use a \"for loop\" to append the travel time in minutes to the list based on the distances in cm you just measured and the following model:\n",
    "- Seismic waves travel 320 km through the Earth for every 1 cm measured\n",
    "- Seismic waves travel 11 km per second\n",
    "- There are 60 seconds in a minute"
   ]
  },
  {
   "cell_type": "code",
   "execution_count": 13,
   "metadata": {},
   "outputs": [
    {
     "name": "stdout",
     "output_type": "stream",
     "text": [
      "[2.812121212121212, 5.1878787878787875, 7.612121212121212, 9.696969696969697, 12.121212121212121, 13.454545454545455, 15.515151515151514, 16.484848484848484, 17.454545454545453, 18.424242424242426, 18.90909090909091, 19.393939393939394]\n"
     ]
    }
   ],
   "source": [
    "travel_time_t = []\n",
    "for i in distance_t:\n",
    "    travel_time_t.append((i*320)/11/60)\n",
    "print(travel_time_t)"
   ]
  },
  {
   "cell_type": "markdown",
   "metadata": {},
   "source": [
    "## Seismologists\n",
    "Look at the seismogram record section you have been given and create two lists:\n",
    "1. A list of station distances from the earthquake epicenter in degrees (ex. the first one is about 9)\n",
    "2. A list of minutes after 6 AM when the seismic wave was detected (ex. the first one is about 37)"
   ]
  },
  {
   "cell_type": "code",
   "execution_count": 14,
   "metadata": {
    "collapsed": true
   },
   "outputs": [],
   "source": [
    "degrees_s = [9, 24, 39, 50, 63, 76, 89, 100, 111, 124, 138, 150, 163, 175]\n",
    "minutes = [37, 39.5, 41.5, 43, 45, 46, 47, 48, 49, 53.5, 54, 54, 54, 54.5]"
   ]
  },
  {
   "cell_type": "markdown",
   "metadata": {},
   "source": [
    "Create an empty list called \"travel_time_s\" and then use a \"for loop\" to append the number of minutes it took each seismic wave to reach the station. Remember, that the earthquake occured at 6:34 AM."
   ]
  },
  {
   "cell_type": "code",
   "execution_count": 15,
   "metadata": {},
   "outputs": [
    {
     "name": "stdout",
     "output_type": "stream",
     "text": [
      "[3, 5.5, 7.5, 9, 11, 12, 13, 14, 15, 19.5, 20, 20, 20, 20.5]\n"
     ]
    }
   ],
   "source": [
    "travel_time_s = []\n",
    "for i in minutes:\n",
    "    travel_time_s.append(i - 34)\n",
    "print(travel_time_s)"
   ]
  },
  {
   "cell_type": "markdown",
   "metadata": {},
   "source": [
    "## Evaluate the model\n",
    "Create a graph using plt.scatter() that compares the distance from the epicenter in degrees (x data) vs the travel time in minutes for seismic waves (y data) for both the theoretical data and the seismologist's data:"
   ]
  },
  {
   "cell_type": "code",
   "execution_count": 16,
   "metadata": {},
   "outputs": [
    {
     "data": {
      "image/png": "[encoded data removed]",
      "text/plain": [
       "<matplotlib.figure.Figure at 0x11e18ee80>"
      ]
     },
     "metadata": {},
     "output_type": "display_data"
    }
   ],
   "source": [
    "plt.scatter(degrees_t, travel_time_t, label = \"Theoreticians\")\n",
    "plt.scatter(degrees_s, travel_time_s, label = \"Seisomologists\")\n",
    "plt.title(\"Comparing theoretical vs seismologist data of seismic waves\")\n",
    "plt.xlabel(\"Distance from epicenter (degrees)\")\n",
    "plt.ylabel(\"Travel time (minutes)\")\n",
    "plt.legend()\n",
    "plt.show()"
   ]
  }
 ],
 "metadata": {
  "kernelspec": {
   "display_name": "Python 3",
   "language": "python",
   "name": "python3"
  },
  "language_info": {
   "codemirror_mode": {
    "name": "ipython",
    "version": 3
   },
   "file_extension": ".py",
   "mimetype": "text/x-python",
   "name": "python",
   "nbconvert_exporter": "python",
   "pygments_lexer": "ipython3",
   "version": "3.6.5"
  }
 },
 "nbformat": 4,
 "nbformat_minor": 2
}
