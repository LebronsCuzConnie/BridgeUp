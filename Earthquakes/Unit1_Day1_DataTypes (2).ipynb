{
 "cells": [
  {
   "cell_type": "markdown",
   "metadata": {},
   "source": [
    "# Welcome to Jupyter Notebooks!\n",
    "\n",
    "This is the coding environment where you will write and run Python scripts. \n",
    "\n",
    "**To run the code in a Jupyter Notebook cell, click inside the cell and press \"shift\" and \"return\" on your keyboard at the same time.**"
   ]
  },
  {
   "cell_type": "markdown",
   "metadata": {},
   "source": [
    "This is an empty cell:"
   ]
  },
  {
   "cell_type": "code",
   "execution_count": 15,
   "metadata": {
    "scrolled": true
   },
   "outputs": [
    {
     "name": "stdout",
     "output_type": "stream",
     "text": [
      "6\n",
      "4.0\n",
      "Hello world!\n",
      "Hello 6.5\n"
     ]
    }
   ],
   "source": [
    "Reismarli = 5\n",
    "Nyla = \"5\"\n",
    "Connie = 1.0\n",
    "Samantha = 1\n",
    "Jennifer = 6.5\n",
    "Tigist = \"Hello \"\n",
    "Aleena = \"world!\"\n",
    "Georgia = \"6.5\"\n",
    "Kiara = 2.5\n",
    "Lynette = 4\n",
    "\n",
    "print(Reismarli + Samantha)\n",
    "print(Lynette/Samantha)\n",
    "print(Tigist + Aleena)\n",
    "#print(Tigist + Kiara)\n",
    "print(Tigist + Georgia)\n"
   ]
  },
  {
   "cell_type": "markdown",
   "metadata": {},
   "source": [
    "This is a (mostly) empty cell. It has a comment in it."
   ]
  },
  {
   "cell_type": "code",
   "execution_count": 2,
   "metadata": {
    "collapsed": true
   },
   "outputs": [],
   "source": [
    "\n"
   ]
  },
  {
   "cell_type": "markdown",
   "metadata": {},
   "source": [
    "Try creating your own cell below by clicking the \"+\" button at the top of the screen (You can remove cells using the scissors button)."
   ]
  },
  {
   "cell_type": "markdown",
   "metadata": {},
   "source": [
    "# Working with Data Types\n",
    "Create a variable below and assign any value to it using \"=\""
   ]
  },
  {
   "cell_type": "code",
   "execution_count": 16,
   "metadata": {},
   "outputs": [],
   "source": [
    "LeBron = 23"
   ]
  },
  {
   "cell_type": "markdown",
   "metadata": {},
   "source": [
    "Print out your variable:"
   ]
  },
  {
   "cell_type": "code",
   "execution_count": 17,
   "metadata": {},
   "outputs": [
    {
     "name": "stdout",
     "output_type": "stream",
     "text": [
      "23\n"
     ]
    }
   ],
   "source": [
    "print(LeBron)"
   ]
  },
  {
   "cell_type": "markdown",
   "metadata": {},
   "source": [
    "Create two variables that hold integers or floats:"
   ]
  },
  {
   "cell_type": "code",
   "execution_count": 18,
   "metadata": {},
   "outputs": [],
   "source": [
    "Harden = 13.0\n",
    "Kyrie = 2"
   ]
  },
  {
   "cell_type": "markdown",
   "metadata": {},
   "source": [
    "Print out the sum of those two variables:"
   ]
  },
  {
   "cell_type": "code",
   "execution_count": 19,
   "metadata": {},
   "outputs": [
    {
     "name": "stdout",
     "output_type": "stream",
     "text": [
      "15.0\n"
     ]
    }
   ],
   "source": [
    "print(Harden + Kyrie)"
   ]
  },
  {
   "cell_type": "markdown",
   "metadata": {},
   "source": [
    "Create two variables that hold strings:"
   ]
  },
  {
   "cell_type": "code",
   "execution_count": 32,
   "metadata": {},
   "outputs": [],
   "source": [
    "x = \"cool\"\n",
    "y = \"io!\""
   ]
  },
  {
   "cell_type": "markdown",
   "metadata": {},
   "source": [
    "Print out the sum of those two variables:"
   ]
  },
  {
   "cell_type": "code",
   "execution_count": 33,
   "metadata": {},
   "outputs": [
    {
     "name": "stdout",
     "output_type": "stream",
     "text": [
      "coolio!\n"
     ]
    }
   ],
   "source": [
    "print(x + y)"
   ]
  },
  {
   "cell_type": "markdown",
   "metadata": {},
   "source": [
    "Create two or more variables that hold any type of data. Assign the sum of those two variables to a new variable. Print out the value of the new variable."
   ]
  },
  {
   "cell_type": "code",
   "execution_count": null,
   "metadata": {
    "collapsed": true
   },
   "outputs": [],
   "source": [
    "LeBron = 23\n",
    "kyrie = "
   ]
  },
  {
   "cell_type": "markdown",
   "metadata": {},
   "source": [
    "Let's try using the type() function! You can use the type() function like this:"
   ]
  },
  {
   "cell_type": "code",
   "execution_count": 7,
   "metadata": {},
   "outputs": [
    {
     "name": "stdout",
     "output_type": "stream",
     "text": [
      "<class 'str'>\n"
     ]
    }
   ],
   "source": [
    "# I'm creating a variable and assiging a value to it\n",
    "sample_var = \"3.0\"\n",
    "\n",
    "# Now I will find out what data type it is\n",
    "print(type(sample_var))"
   ]
  },
  {
   "cell_type": "markdown",
   "metadata": {},
   "source": [
    "Now you try! Print out the data type of some of the variables you created above:"
   ]
  },
  {
   "cell_type": "code",
   "execution_count": 8,
   "metadata": {
    "collapsed": true
   },
   "outputs": [],
   "source": [
    "# Hint: You may want to copy and paste your lines of code and make small edits to save time and energy\n"
   ]
  },
  {
   "cell_type": "markdown",
   "metadata": {},
   "source": [
    "# Coding Challenges!"
   ]
  },
  {
   "cell_type": "markdown",
   "metadata": {},
   "source": [
    "## Challenge 1: Hello World\n",
    "Write code that prints out \"Hello World!\". Can you do this using a variable?"
   ]
  },
  {
   "cell_type": "code",
   "execution_count": null,
   "metadata": {
    "collapsed": true
   },
   "outputs": [],
   "source": []
  },
  {
   "cell_type": "markdown",
   "metadata": {},
   "source": [
    "## Challenge 2: Reassigning Variables\n",
    "Create a variable, assign it a value, and print it out. Then **without changing any old lines of code, and only adding new lines,** assign that variable to a new value. Print out your variable again."
   ]
  },
  {
   "cell_type": "code",
   "execution_count": null,
   "metadata": {
    "collapsed": true
   },
   "outputs": [],
   "source": []
  },
  {
   "cell_type": "markdown",
   "metadata": {},
   "source": [
    "## Challenge 3: Doing Math with Python\n",
    "Solve the following word problems using variables, the print command, and math operations (+, -, *, /):\n",
    "- Jayda is 14. Diya is 3. Diya has a sister who is 5 years older than her. How much older is Jayda than Diya's sister?\n",
    "\n",
    "\n",
    "- If one hard drive can hold 1250 data files and Erin has 35250 data files, how many hard drives will she need to store all of them?\n",
    "\n",
    "\n",
    "- There are 13 hours between when Toni gets home from school and when she needs to wake up for school the next morning. If Toni chats with her friends for 30 minutes, eats dinner for 30 minutes, practices guitar for .45 hour, works on homework for 3.5 times the amount of time she spent practicing, plays a video game for 1.25 hours, and reads a book for twice as long as she spent playing the video game, how many hours does she sleep?\n",
    "**hint: try using a list and the sum() function**"
   ]
  },
  {
   "cell_type": "code",
   "execution_count": null,
   "metadata": {
    "collapsed": true
   },
   "outputs": [],
   "source": []
  }
 ],
 "metadata": {
  "kernelspec": {
   "display_name": "Python 3",
   "language": "python",
   "name": "python3"
  },
  "language_info": {
   "codemirror_mode": {
    "name": "ipython",
    "version": 3
   },
   "file_extension": ".py",
   "mimetype": "text/x-python",
   "name": "python",
   "nbconvert_exporter": "python",
   "pygments_lexer": "ipython3",
   "version": "3.6.5"
  }
 },
 "nbformat": 4,
 "nbformat_minor": 2
}
