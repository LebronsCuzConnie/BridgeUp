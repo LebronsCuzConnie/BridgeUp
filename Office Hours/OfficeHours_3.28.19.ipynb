{
 "cells": [
  {
   "cell_type": "markdown",
   "metadata": {},
   "source": [
    "## Challenge #1"
   ]
  },
  {
   "cell_type": "markdown",
   "metadata": {},
   "source": [
    "Create a list of integers\n",
    "Write a for loop that prints each integer + 5 in a new list"
   ]
  },
  {
   "cell_type": "code",
   "execution_count": 1,
   "metadata": {},
   "outputs": [
    {
     "name": "stdout",
     "output_type": "stream",
     "text": [
      "[6, 7, 8, 9, 10, 11]\n"
     ]
    }
   ],
   "source": [
    "integerList = [1, 2, 3, 4, 5, 6]\n",
    "sumList = []\n",
    "for i in integerList:\n",
    "    sumList.append(i + 5)\n",
    "print(sumList)"
   ]
  },
  {
   "cell_type": "markdown",
   "metadata": {},
   "source": [
    "## Challenge #2"
   ]
  },
  {
   "cell_type": "markdown",
   "metadata": {},
   "source": [
    "Create a list (that contains strings + integers). Assign to a variabke. Write a loop that prints out only the items that are strings"
   ]
  },
  {
   "cell_type": "code",
   "execution_count": 2,
   "metadata": {},
   "outputs": [
    {
     "name": "stdout",
     "output_type": "stream",
     "text": [
      "one\n",
      "two\n",
      "three\n"
     ]
    }
   ],
   "source": [
    "int_strList = [1, \"one\", 2, \"two\", 3, \"three\"]\n",
    "for i in int_strList:\n",
    "    if type(i) == str:\n",
    "        print(i)\n"
   ]
  },
  {
   "cell_type": "code",
   "execution_count": 3,
   "metadata": {},
   "outputs": [
    {
     "name": "stdout",
     "output_type": "stream",
     "text": [
      "<class 'int'>\n",
      "<class 'str'>\n"
     ]
    },
    {
     "data": {
      "text/plain": [
       "list"
      ]
     },
     "execution_count": 3,
     "metadata": {},
     "output_type": "execute_result"
    }
   ],
   "source": [
    "print(type(2))\n",
    "print(type(\"the\"))\n",
    "type(int_strList)"
   ]
  },
  {
   "cell_type": "markdown",
   "metadata": {},
   "source": [
    "## Challenge #3"
   ]
  },
  {
   "cell_type": "markdown",
   "metadata": {},
   "source": [
    "Assign a long string to a variable.\n",
    "Write a for loop that counts how many vowels are in the string."
   ]
  },
  {
   "cell_type": "code",
   "execution_count": 9,
   "metadata": {},
   "outputs": [
    {
     "name": "stdout",
     "output_type": "stream",
     "text": [
      "16\n"
     ]
    }
   ],
   "source": [
    "longString = \"Supercalifragilisticexpialidocious\"\n",
    "countVowels = 0\n",
    "\n",
    "for i in longString:\n",
    "    if i == \"a\":\n",
    "        countVowels += 1\n",
    "    elif i == \"e\":\n",
    "        countVowels += 1\n",
    "    elif i == \"i\":\n",
    "        countVowels += 1\n",
    "    elif i == \"o\":\n",
    "        countVowels += 1\n",
    "    elif i == \"u\":\n",
    "        countVowels += 1\n",
    "print(countVowels)\n"
   ]
  },
  {
   "cell_type": "markdown",
   "metadata": {},
   "source": [
    "Make the above code a function"
   ]
  },
  {
   "cell_type": "code",
   "execution_count": 17,
   "metadata": {},
   "outputs": [
    {
     "name": "stdout",
     "output_type": "stream",
     "text": [
      "15\n",
      "20\n",
      "7\n"
     ]
    }
   ],
   "source": [
    "def countVowels(word):\n",
    "    countVowels = 0\n",
    "    for i in word:\n",
    "        if i == \"a\":\n",
    "            countVowels += 1\n",
    "        elif i == \"e\":\n",
    "            countVowels += 1\n",
    "        elif i == \"i\":\n",
    "            countVowels += 1\n",
    "        elif i == \"o\":\n",
    "            countVowels += 1\n",
    "        elif i == \"u\":\n",
    "            countVowels += 1\n",
    "    return countVowels\n",
    "print(countVowels(\"Hippopotomonstrosesquipedaliophobic\"))\n",
    "print(countVowels(\"pneumonoultramicroscopicsilicovolcanoconiosis\"))\n",
    "print(countVowels(\"Sesquipedalian\"))"
   ]
  },
  {
   "cell_type": "markdown",
   "metadata": {},
   "source": [
    "Simplify your code to one conditional"
   ]
  },
  {
   "cell_type": "code",
   "execution_count": 24,
   "metadata": {},
   "outputs": [
    {
     "name": "stdout",
     "output_type": "stream",
     "text": [
      "11\n",
      "10\n",
      "31\n",
      "20\n",
      "6\n"
     ]
    }
   ],
   "source": [
    "vowels = [\"a\", \"e\", \"i\", \"o\", \"u\"]\n",
    "\n",
    "def countVowels(word):\n",
    "    countVowels = 0\n",
    "    for i in word:\n",
    "        if i in vowels:\n",
    "            countVowels += 1\n",
    "        \n",
    "    return countVowels\n",
    "\n",
    "print(countVowels(\"Donaudampfschiffahrtsgesellschaftskapitän\"))\n",
    "print(countVowels(\"anticonstitutionnellement\"))\n",
    "print(countVowels(\"Lentokonesuihkuturbiinimoottoriapumekaanikkoaliupseerioppilas\"))\n",
    "print(countVowels(\"pneumonoultramicroscopicsilicovolcanoconiosis\"))\n",
    "print(countVowels(\"Maher-shalal-hash-baz\"))"
   ]
  }
 ],
 "metadata": {
  "kernelspec": {
   "display_name": "Python 3",
   "language": "python",
   "name": "python3"
  },
  "language_info": {
   "codemirror_mode": {
    "name": "ipython",
    "version": 3
   },
   "file_extension": ".py",
   "mimetype": "text/x-python",
   "name": "python",
   "nbconvert_exporter": "python",
   "pygments_lexer": "ipython3",
   "version": "3.6.5"
  }
 },
 "nbformat": 4,
 "nbformat_minor": 2
}
